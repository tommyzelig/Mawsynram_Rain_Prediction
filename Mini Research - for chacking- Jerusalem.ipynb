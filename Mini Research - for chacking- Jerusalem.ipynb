{
 "cells": [
  {
   "cell_type": "code",
   "execution_count": 4,
   "metadata": {},
   "outputs": [],
   "source": [
    "import pandas as pd\n",
    "from datetime import datetime as dt\n",
    "from sklearn.model_selection import train_test_split\n",
    "from sklearn.linear_model import LinearRegression\n",
    "from sklearn.preprocessing import normalize\n",
    "from sklearn.metrics import mean_squared_error\n",
    "import matplotlib.pyplot as plt\n",
    "import seaborn as sns"
   ]
  },
  {
   "cell_type": "code",
   "execution_count": 5,
   "metadata": {},
   "outputs": [
    {
     "name": "stdout",
     "output_type": "stream",
     "text": [
      "                               dt_iso  timezone  city_name        lat  \\\n",
      "0       2006-01-01 00:00:00 +0000 UTC      7200  Jerusalem  31.768319   \n",
      "1       2006-01-01 01:00:00 +0000 UTC      7200  Jerusalem  31.768319   \n",
      "2       2006-01-01 02:00:00 +0000 UTC      7200  Jerusalem  31.768319   \n",
      "3       2006-01-01 03:00:00 +0000 UTC      7200  Jerusalem  31.768319   \n",
      "4       2006-01-01 04:00:00 +0000 UTC      7200  Jerusalem  31.768319   \n",
      "...                               ...       ...        ...        ...   \n",
      "135253  2021-06-01 19:00:00 +0000 UTC     10800  Jerusalem  31.768319   \n",
      "135254  2021-06-01 20:00:00 +0000 UTC     10800  Jerusalem  31.768319   \n",
      "135255  2021-06-01 21:00:00 +0000 UTC     10800  Jerusalem  31.768319   \n",
      "135256  2021-06-01 22:00:00 +0000 UTC     10800  Jerusalem  31.768319   \n",
      "135257  2021-06-01 23:00:00 +0000 UTC     10800  Jerusalem  31.768319   \n",
      "\n",
      "             lon   temp  feels_like  temp_min  temp_max  pressure  ...  \\\n",
      "0       35.21371  11.82       10.15     10.30     14.67      1020  ...   \n",
      "1       35.21371  12.27       10.91     11.06     14.90      1019  ...   \n",
      "2       35.21371  12.60       10.96     10.45     14.91      1018  ...   \n",
      "3       35.21371  12.92       11.56     10.70     14.86      1019  ...   \n",
      "4       35.21371  12.53       10.11     10.22     14.46      1018  ...   \n",
      "...          ...    ...         ...       ...       ...       ...  ...   \n",
      "135253  35.21371  21.67       20.95     18.33     28.16      1012  ...   \n",
      "135254  35.21371  20.91       20.65     17.78     26.96      1012  ...   \n",
      "135255  35.21371  20.79       20.49     17.22     26.96      1013  ...   \n",
      "135256  35.21371  20.28       20.53     16.67     26.96      1012  ...   \n",
      "135257  35.21371  19.38       18.62     16.11     26.25      1012  ...   \n",
      "\n",
      "        wind_deg  rain_1h  rain_3h  snow_1h  snow_3h  clouds_all  weather_id  \\\n",
      "0             30      NaN      NaN      NaN      NaN          90         804   \n",
      "1              0      NaN      NaN      NaN      NaN           0         800   \n",
      "2            130      NaN      NaN      NaN      NaN           0         800   \n",
      "3            130      NaN      NaN      NaN      NaN          40         802   \n",
      "4            140      NaN      NaN      NaN      NaN           0         800   \n",
      "...          ...      ...      ...      ...      ...         ...         ...   \n",
      "135253       290      NaN      NaN      NaN      NaN           0         800   \n",
      "135254       290      NaN      NaN      NaN      NaN           0         800   \n",
      "135255       270      NaN      NaN      NaN      NaN           0         800   \n",
      "135256         0      NaN      NaN      NaN      NaN           0         800   \n",
      "135257       150      NaN      NaN      NaN      NaN           0         800   \n",
      "\n",
      "        weather_main  weather_description  weather_icon  \n",
      "0             Clouds      overcast clouds           04n  \n",
      "1              Clear         sky is clear           01n  \n",
      "2              Clear         sky is clear           01n  \n",
      "3             Clouds     scattered clouds           03n  \n",
      "4              Clear         sky is clear           01n  \n",
      "...              ...                  ...           ...  \n",
      "135253         Clear         sky is clear           01n  \n",
      "135254         Clear         sky is clear           01n  \n",
      "135255         Clear         sky is clear           01n  \n",
      "135256         Clear         sky is clear           01n  \n",
      "135257         Clear         sky is clear           01n  \n",
      "\n",
      "[135258 rows x 24 columns]\n"
     ]
    }
   ],
   "source": [
    "df = pd.read_csv(\"historical_weather2006-2021.csv\")\n",
    "print (df)"
   ]
  },
  {
   "cell_type": "markdown",
   "metadata": {},
   "source": [
    "##### Examine Data Statistics"
   ]
  },
  {
   "cell_type": "code",
   "execution_count": 6,
   "metadata": {},
   "outputs": [
    {
     "data": {
      "text/html": [
       "<div>\n",
       "<style scoped>\n",
       "    .dataframe tbody tr th:only-of-type {\n",
       "        vertical-align: middle;\n",
       "    }\n",
       "\n",
       "    .dataframe tbody tr th {\n",
       "        vertical-align: top;\n",
       "    }\n",
       "\n",
       "    .dataframe thead th {\n",
       "        text-align: right;\n",
       "    }\n",
       "</style>\n",
       "<table border=\"1\" class=\"dataframe\">\n",
       "  <thead>\n",
       "    <tr style=\"text-align: right;\">\n",
       "      <th></th>\n",
       "      <th>timezone</th>\n",
       "      <th>lat</th>\n",
       "      <th>lon</th>\n",
       "      <th>temp</th>\n",
       "      <th>feels_like</th>\n",
       "      <th>temp_min</th>\n",
       "      <th>temp_max</th>\n",
       "      <th>pressure</th>\n",
       "      <th>sea_level</th>\n",
       "      <th>grnd_level</th>\n",
       "      <th>humidity</th>\n",
       "      <th>wind_speed</th>\n",
       "      <th>wind_deg</th>\n",
       "      <th>rain_1h</th>\n",
       "      <th>rain_3h</th>\n",
       "      <th>snow_1h</th>\n",
       "      <th>snow_3h</th>\n",
       "      <th>clouds_all</th>\n",
       "      <th>weather_id</th>\n",
       "    </tr>\n",
       "  </thead>\n",
       "  <tbody>\n",
       "    <tr>\n",
       "      <th>count</th>\n",
       "      <td>135258.000000</td>\n",
       "      <td>1.352580e+05</td>\n",
       "      <td>1.352580e+05</td>\n",
       "      <td>135258.000000</td>\n",
       "      <td>135258.000000</td>\n",
       "      <td>135258.000000</td>\n",
       "      <td>135258.000000</td>\n",
       "      <td>135258.000000</td>\n",
       "      <td>0.0</td>\n",
       "      <td>0.0</td>\n",
       "      <td>135258.000000</td>\n",
       "      <td>135258.000000</td>\n",
       "      <td>135258.000000</td>\n",
       "      <td>5571.000000</td>\n",
       "      <td>0.0</td>\n",
       "      <td>0.0</td>\n",
       "      <td>0.0</td>\n",
       "      <td>135258.000000</td>\n",
       "      <td>135258.000000</td>\n",
       "    </tr>\n",
       "    <tr>\n",
       "      <th>mean</th>\n",
       "      <td>9144.869804</td>\n",
       "      <td>3.176832e+01</td>\n",
       "      <td>3.521371e+01</td>\n",
       "      <td>20.759142</td>\n",
       "      <td>19.043397</td>\n",
       "      <td>18.295088</td>\n",
       "      <td>23.865457</td>\n",
       "      <td>1013.389093</td>\n",
       "      <td>NaN</td>\n",
       "      <td>NaN</td>\n",
       "      <td>55.385079</td>\n",
       "      <td>3.142870</td>\n",
       "      <td>216.107683</td>\n",
       "      <td>0.700646</td>\n",
       "      <td>NaN</td>\n",
       "      <td>NaN</td>\n",
       "      <td>NaN</td>\n",
       "      <td>17.354027</td>\n",
       "      <td>785.650438</td>\n",
       "    </tr>\n",
       "    <tr>\n",
       "      <th>std</th>\n",
       "      <td>1794.167367</td>\n",
       "      <td>1.153926e-11</td>\n",
       "      <td>9.543335e-11</td>\n",
       "      <td>6.597897</td>\n",
       "      <td>7.716325</td>\n",
       "      <td>6.931393</td>\n",
       "      <td>6.696944</td>\n",
       "      <td>5.443154</td>\n",
       "      <td>NaN</td>\n",
       "      <td>NaN</td>\n",
       "      <td>21.627439</td>\n",
       "      <td>1.714639</td>\n",
       "      <td>100.410866</td>\n",
       "      <td>0.954464</td>\n",
       "      <td>NaN</td>\n",
       "      <td>NaN</td>\n",
       "      <td>NaN</td>\n",
       "      <td>2719.012089</td>\n",
       "      <td>64.045310</td>\n",
       "    </tr>\n",
       "    <tr>\n",
       "      <th>min</th>\n",
       "      <td>7200.000000</td>\n",
       "      <td>3.176832e+01</td>\n",
       "      <td>3.521371e+01</td>\n",
       "      <td>0.770000</td>\n",
       "      <td>-2.460000</td>\n",
       "      <td>-1.800000</td>\n",
       "      <td>3.980000</td>\n",
       "      <td>949.000000</td>\n",
       "      <td>NaN</td>\n",
       "      <td>NaN</td>\n",
       "      <td>3.000000</td>\n",
       "      <td>0.020000</td>\n",
       "      <td>0.000000</td>\n",
       "      <td>0.100000</td>\n",
       "      <td>NaN</td>\n",
       "      <td>NaN</td>\n",
       "      <td>NaN</td>\n",
       "      <td>-999900.000000</td>\n",
       "      <td>200.000000</td>\n",
       "    </tr>\n",
       "    <tr>\n",
       "      <th>25%</th>\n",
       "      <td>7200.000000</td>\n",
       "      <td>3.176832e+01</td>\n",
       "      <td>3.521371e+01</td>\n",
       "      <td>15.460000</td>\n",
       "      <td>12.800000</td>\n",
       "      <td>12.700000</td>\n",
       "      <td>18.270000</td>\n",
       "      <td>1010.000000</td>\n",
       "      <td>NaN</td>\n",
       "      <td>NaN</td>\n",
       "      <td>39.000000</td>\n",
       "      <td>2.060000</td>\n",
       "      <td>130.000000</td>\n",
       "      <td>0.250000</td>\n",
       "      <td>NaN</td>\n",
       "      <td>NaN</td>\n",
       "      <td>NaN</td>\n",
       "      <td>0.000000</td>\n",
       "      <td>800.000000</td>\n",
       "    </tr>\n",
       "    <tr>\n",
       "      <th>50%</th>\n",
       "      <td>10800.000000</td>\n",
       "      <td>3.176832e+01</td>\n",
       "      <td>3.521371e+01</td>\n",
       "      <td>21.060000</td>\n",
       "      <td>19.060000</td>\n",
       "      <td>18.660000</td>\n",
       "      <td>24.000000</td>\n",
       "      <td>1013.000000</td>\n",
       "      <td>NaN</td>\n",
       "      <td>NaN</td>\n",
       "      <td>56.000000</td>\n",
       "      <td>3.000000</td>\n",
       "      <td>251.000000</td>\n",
       "      <td>0.500000</td>\n",
       "      <td>NaN</td>\n",
       "      <td>NaN</td>\n",
       "      <td>NaN</td>\n",
       "      <td>20.000000</td>\n",
       "      <td>800.000000</td>\n",
       "    </tr>\n",
       "    <tr>\n",
       "      <th>75%</th>\n",
       "      <td>10800.000000</td>\n",
       "      <td>3.176832e+01</td>\n",
       "      <td>3.521371e+01</td>\n",
       "      <td>26.090000</td>\n",
       "      <td>25.640000</td>\n",
       "      <td>23.900000</td>\n",
       "      <td>29.000000</td>\n",
       "      <td>1017.000000</td>\n",
       "      <td>NaN</td>\n",
       "      <td>NaN</td>\n",
       "      <td>72.000000</td>\n",
       "      <td>4.100000</td>\n",
       "      <td>300.000000</td>\n",
       "      <td>0.810000</td>\n",
       "      <td>NaN</td>\n",
       "      <td>NaN</td>\n",
       "      <td>NaN</td>\n",
       "      <td>40.000000</td>\n",
       "      <td>802.000000</td>\n",
       "    </tr>\n",
       "    <tr>\n",
       "      <th>max</th>\n",
       "      <td>10800.000000</td>\n",
       "      <td>3.176832e+01</td>\n",
       "      <td>3.521371e+01</td>\n",
       "      <td>39.920000</td>\n",
       "      <td>39.440000</td>\n",
       "      <td>37.000000</td>\n",
       "      <td>44.440000</td>\n",
       "      <td>1036.000000</td>\n",
       "      <td>NaN</td>\n",
       "      <td>NaN</td>\n",
       "      <td>100.000000</td>\n",
       "      <td>23.100000</td>\n",
       "      <td>360.000000</td>\n",
       "      <td>39.880000</td>\n",
       "      <td>NaN</td>\n",
       "      <td>NaN</td>\n",
       "      <td>NaN</td>\n",
       "      <td>100.000000</td>\n",
       "      <td>804.000000</td>\n",
       "    </tr>\n",
       "  </tbody>\n",
       "</table>\n",
       "</div>"
      ],
      "text/plain": [
       "            timezone           lat           lon           temp  \\\n",
       "count  135258.000000  1.352580e+05  1.352580e+05  135258.000000   \n",
       "mean     9144.869804  3.176832e+01  3.521371e+01      20.759142   \n",
       "std      1794.167367  1.153926e-11  9.543335e-11       6.597897   \n",
       "min      7200.000000  3.176832e+01  3.521371e+01       0.770000   \n",
       "25%      7200.000000  3.176832e+01  3.521371e+01      15.460000   \n",
       "50%     10800.000000  3.176832e+01  3.521371e+01      21.060000   \n",
       "75%     10800.000000  3.176832e+01  3.521371e+01      26.090000   \n",
       "max     10800.000000  3.176832e+01  3.521371e+01      39.920000   \n",
       "\n",
       "          feels_like       temp_min       temp_max       pressure  sea_level  \\\n",
       "count  135258.000000  135258.000000  135258.000000  135258.000000        0.0   \n",
       "mean       19.043397      18.295088      23.865457    1013.389093        NaN   \n",
       "std         7.716325       6.931393       6.696944       5.443154        NaN   \n",
       "min        -2.460000      -1.800000       3.980000     949.000000        NaN   \n",
       "25%        12.800000      12.700000      18.270000    1010.000000        NaN   \n",
       "50%        19.060000      18.660000      24.000000    1013.000000        NaN   \n",
       "75%        25.640000      23.900000      29.000000    1017.000000        NaN   \n",
       "max        39.440000      37.000000      44.440000    1036.000000        NaN   \n",
       "\n",
       "       grnd_level       humidity     wind_speed       wind_deg      rain_1h  \\\n",
       "count         0.0  135258.000000  135258.000000  135258.000000  5571.000000   \n",
       "mean          NaN      55.385079       3.142870     216.107683     0.700646   \n",
       "std           NaN      21.627439       1.714639     100.410866     0.954464   \n",
       "min           NaN       3.000000       0.020000       0.000000     0.100000   \n",
       "25%           NaN      39.000000       2.060000     130.000000     0.250000   \n",
       "50%           NaN      56.000000       3.000000     251.000000     0.500000   \n",
       "75%           NaN      72.000000       4.100000     300.000000     0.810000   \n",
       "max           NaN     100.000000      23.100000     360.000000    39.880000   \n",
       "\n",
       "       rain_3h  snow_1h  snow_3h     clouds_all     weather_id  \n",
       "count      0.0      0.0      0.0  135258.000000  135258.000000  \n",
       "mean       NaN      NaN      NaN      17.354027     785.650438  \n",
       "std        NaN      NaN      NaN    2719.012089      64.045310  \n",
       "min        NaN      NaN      NaN -999900.000000     200.000000  \n",
       "25%        NaN      NaN      NaN       0.000000     800.000000  \n",
       "50%        NaN      NaN      NaN      20.000000     800.000000  \n",
       "75%        NaN      NaN      NaN      40.000000     802.000000  \n",
       "max        NaN      NaN      NaN     100.000000     804.000000  "
      ]
     },
     "execution_count": 6,
     "metadata": {},
     "output_type": "execute_result"
    }
   ],
   "source": [
    "df.describe()"
   ]
  },
  {
   "cell_type": "markdown",
   "metadata": {},
   "source": [
    "##### Drop all NaN Columns"
   ]
  },
  {
   "cell_type": "code",
   "execution_count": 7,
   "metadata": {},
   "outputs": [
    {
     "name": "stdout",
     "output_type": "stream",
     "text": [
      "sea_level\n",
      "grnd_level\n",
      "rain_3h\n",
      "snow_1h\n",
      "snow_3h\n"
     ]
    }
   ],
   "source": [
    "for col in df.columns:\n",
    "    if df[col].count() == 0:\n",
    "        print(col)\n",
    "        df.drop(col,axis='columns',inplace=True)"
   ]
  },
  {
   "cell_type": "markdown",
   "metadata": {},
   "source": [
    "##### Drop Columns with Only One Unique Value"
   ]
  },
  {
   "cell_type": "code",
   "execution_count": 8,
   "metadata": {},
   "outputs": [
    {
     "name": "stdout",
     "output_type": "stream",
     "text": [
      "city_name\n",
      "lat\n",
      "lon\n"
     ]
    }
   ],
   "source": [
    "for col in df.columns:\n",
    "    if len(df[col].unique()) == 1:\n",
    "        print(col)\n",
    "        df.drop(col,axis='columns',inplace=True)"
   ]
  },
  {
   "cell_type": "markdown",
   "metadata": {},
   "source": [
    "##### Keep only independent and relevant variables"
   ]
  },
  {
   "cell_type": "code",
   "execution_count": 9,
   "metadata": {},
   "outputs": [],
   "source": [
    "cols_to_drop = ['feels_like','timezone','weather_id','weather_icon','weather_description','weather_main'] \n",
    "df.drop(cols_to_drop,axis='columns',inplace=True)"
   ]
  },
  {
   "cell_type": "markdown",
   "metadata": {},
   "source": [
    "##### Fix date"
   ]
  },
  {
   "cell_type": "code",
   "execution_count": 10,
   "metadata": {},
   "outputs": [],
   "source": [
    "df['dt_iso'] = df['dt_iso'].apply(lambda x: x.split(' ')[0])"
   ]
  },
  {
   "cell_type": "code",
   "execution_count": 11,
   "metadata": {},
   "outputs": [],
   "source": [
    "df['dt_iso'] = pd.to_datetime(df['dt_iso'])"
   ]
  },
  {
   "cell_type": "markdown",
   "metadata": {},
   "source": [
    "##### fill NaN in rain_1h with 0"
   ]
  },
  {
   "cell_type": "code",
   "execution_count": 12,
   "metadata": {},
   "outputs": [],
   "source": [
    "df['rain_1h'].fillna(0,inplace=True)"
   ]
  },
  {
   "cell_type": "markdown",
   "metadata": {},
   "source": [
    "##### Group by Date"
   ]
  },
  {
   "cell_type": "code",
   "execution_count": 13,
   "metadata": {},
   "outputs": [],
   "source": [
    "group_df = df.groupby('dt_iso',as_index=False).mean()"
   ]
  },
  {
   "cell_type": "code",
   "execution_count": 14,
   "metadata": {},
   "outputs": [],
   "source": [
    "for i in group_df.index:\n",
    "    group_df.loc[i+1,'yesterday'] = group_df.loc[i, 'rain_1h']"
   ]
  },
  {
   "cell_type": "code",
   "execution_count": 15,
   "metadata": {},
   "outputs": [],
   "source": [
    "group_df.dropna(inplace=True)"
   ]
  },
  {
   "cell_type": "markdown",
   "metadata": {},
   "source": [
    "##### Drop Date column"
   ]
  },
  {
   "cell_type": "code",
   "execution_count": 16,
   "metadata": {},
   "outputs": [],
   "source": [
    "group_df.drop('dt_iso', axis=1, inplace=True)"
   ]
  },
  {
   "cell_type": "markdown",
   "metadata": {},
   "source": [
    "##### Normalize"
   ]
  },
  {
   "cell_type": "code",
   "execution_count": 17,
   "metadata": {},
   "outputs": [],
   "source": [
    "norm_df = pd.DataFrame(normalize(group_df,axis=1),index=group_df.index,columns=group_df.columns)"
   ]
  },
  {
   "cell_type": "code",
   "execution_count": 18,
   "metadata": {},
   "outputs": [
    {
     "name": "stdout",
     "output_type": "stream",
     "text": [
      "          temp  temp_min  temp_max  pressure  humidity  wind_speed  wind_deg  \\\n",
      "1     0.014811  0.012895  0.016841  0.985442  0.060431    0.002238  0.156734   \n",
      "2     0.015956  0.010923  0.019431  0.996029  0.028503    0.003500  0.076772   \n",
      "3     0.017134  0.011403  0.020185  0.993132  0.031371    0.008685  0.096274   \n",
      "4     0.017300  0.013553  0.020091  0.986498  0.049392    0.002432  0.153037   \n",
      "5     0.014820  0.012393  0.017301  0.961909  0.064172    0.002233  0.262378   \n",
      "...        ...       ...       ...       ...       ...         ...       ...   \n",
      "5626  0.023375  0.021113  0.027410  0.977054  0.064675    0.003274  0.198256   \n",
      "5627  0.022058  0.019577  0.026175  0.978469  0.067959    0.003193  0.190655   \n",
      "5628  0.023437  0.021358  0.027082  0.982943  0.057123    0.003102  0.169508   \n",
      "5629  0.027074  0.024522  0.031246  0.985626  0.049883    0.003454  0.153801   \n",
      "5630  0.023179  0.020464  0.027352  0.981482  0.061102    0.002893  0.176428   \n",
      "\n",
      "      rain_1h  clouds_all  yesterday  \n",
      "1     0.00000    0.003555    0.00000  \n",
      "2     0.00000    0.021357    0.00000  \n",
      "3     0.00005    0.050299    0.00000  \n",
      "4     0.00000    0.008306    0.00005  \n",
      "5     0.00000    0.033074    0.00000  \n",
      "...       ...         ...        ...  \n",
      "5626  0.00000    0.011081    0.00000  \n",
      "5627  0.00000    0.008062    0.00000  \n",
      "5628  0.00000    0.008900    0.00000  \n",
      "5629  0.00000    0.008748    0.00000  \n",
      "5630  0.00000    0.010926    0.00000  \n",
      "\n",
      "[5630 rows x 10 columns]\n"
     ]
    }
   ],
   "source": [
    "print (norm_df)"
   ]
  },
  {
   "cell_type": "markdown",
   "metadata": {},
   "source": [
    "## ML Model"
   ]
  },
  {
   "cell_type": "markdown",
   "metadata": {},
   "source": [
    "### Linear Regression"
   ]
  },
  {
   "cell_type": "markdown",
   "metadata": {},
   "source": [
    "##### For rain amount"
   ]
  },
  {
   "cell_type": "code",
   "execution_count": 212,
   "metadata": {},
   "outputs": [],
   "source": [
    "features = norm_df[[col for col in norm_df if col != 'rain_1h']]\n",
    "output = norm_df['rain_1h']"
   ]
  },
  {
   "cell_type": "code",
   "execution_count": 213,
   "metadata": {},
   "outputs": [],
   "source": [
    "x_train, x_test, y_train, y_test = train_test_split(features,output,test_size = 0.2)"
   ]
  },
  {
   "cell_type": "code",
   "execution_count": 214,
   "metadata": {},
   "outputs": [],
   "source": [
    "model = LinearRegression()"
   ]
  },
  {
   "cell_type": "code",
   "execution_count": 215,
   "metadata": {},
   "outputs": [
    {
     "data": {
      "text/plain": [
       "LinearRegression()"
      ]
     },
     "execution_count": 215,
     "metadata": {},
     "output_type": "execute_result"
    }
   ],
   "source": [
    "model.fit(x_train,y_train)"
   ]
  },
  {
   "cell_type": "code",
   "execution_count": 216,
   "metadata": {},
   "outputs": [
    {
     "data": {
      "text/html": [
       "<div>\n",
       "<style scoped>\n",
       "    .dataframe tbody tr th:only-of-type {\n",
       "        vertical-align: middle;\n",
       "    }\n",
       "\n",
       "    .dataframe tbody tr th {\n",
       "        vertical-align: top;\n",
       "    }\n",
       "\n",
       "    .dataframe thead th {\n",
       "        text-align: right;\n",
       "    }\n",
       "</style>\n",
       "<table border=\"1\" class=\"dataframe\">\n",
       "  <thead>\n",
       "    <tr style=\"text-align: right;\">\n",
       "      <th></th>\n",
       "      <th>Coef</th>\n",
       "    </tr>\n",
       "  </thead>\n",
       "  <tbody>\n",
       "    <tr>\n",
       "      <th>temp</th>\n",
       "      <td>-0.023741</td>\n",
       "    </tr>\n",
       "    <tr>\n",
       "      <th>temp_min</th>\n",
       "      <td>0.001742</td>\n",
       "    </tr>\n",
       "    <tr>\n",
       "      <th>temp_max</th>\n",
       "      <td>0.020095</td>\n",
       "    </tr>\n",
       "    <tr>\n",
       "      <th>pressure</th>\n",
       "      <td>-0.001239</td>\n",
       "    </tr>\n",
       "    <tr>\n",
       "      <th>humidity</th>\n",
       "      <td>0.000711</td>\n",
       "    </tr>\n",
       "    <tr>\n",
       "      <th>wind_speed</th>\n",
       "      <td>0.026493</td>\n",
       "    </tr>\n",
       "    <tr>\n",
       "      <th>wind_deg</th>\n",
       "      <td>-0.000324</td>\n",
       "    </tr>\n",
       "    <tr>\n",
       "      <th>clouds_all</th>\n",
       "      <td>0.001114</td>\n",
       "    </tr>\n",
       "    <tr>\n",
       "      <th>yesterday</th>\n",
       "      <td>0.285871</td>\n",
       "    </tr>\n",
       "  </tbody>\n",
       "</table>\n",
       "</div>"
      ],
      "text/plain": [
       "                Coef\n",
       "temp       -0.023741\n",
       "temp_min    0.001742\n",
       "temp_max    0.020095\n",
       "pressure   -0.001239\n",
       "humidity    0.000711\n",
       "wind_speed  0.026493\n",
       "wind_deg   -0.000324\n",
       "clouds_all  0.001114\n",
       "yesterday   0.285871"
      ]
     },
     "execution_count": 216,
     "metadata": {},
     "output_type": "execute_result"
    }
   ],
   "source": [
    "pd.DataFrame(model.coef_,index=features.columns,columns=['Coef'])"
   ]
  },
  {
   "cell_type": "code",
   "execution_count": 217,
   "metadata": {},
   "outputs": [],
   "source": [
    "y_pred = model.predict(x_test)"
   ]
  },
  {
   "cell_type": "code",
   "execution_count": 218,
   "metadata": {},
   "outputs": [
    {
     "data": {
      "text/plain": [
       "0.37020400975537926"
      ]
     },
     "execution_count": 218,
     "metadata": {},
     "output_type": "execute_result"
    }
   ],
   "source": [
    "model.score(x_test,y_test)"
   ]
  },
  {
   "cell_type": "code",
   "execution_count": 219,
   "metadata": {},
   "outputs": [],
   "source": [
    "models = []\n",
    "r2 = []\n",
    "\n",
    "for i in range(1500):\n",
    "    features = norm_df[[col for col in norm_df if col != 'rain_1h']]\n",
    "    output = norm_df['rain_1h']\n",
    "\n",
    "    x_train, x_test, y_train, y_test = train_test_split(features,output,test_size = 0.2)\n",
    "\n",
    "    model = LinearRegression()\n",
    "\n",
    "    model.fit(x_train,y_train)\n",
    "\n",
    "    y_pred = model.predict(x_test)\n",
    "\n",
    "    score = model.score(x_test,y_test)\n",
    "    \n",
    "    models.append(model)\n",
    "    r2.append(score)"
   ]
  },
  {
   "cell_type": "markdown",
   "metadata": {},
   "source": [
    "##### For is rain"
   ]
  },
  {
   "cell_type": "code",
   "execution_count": 226,
   "metadata": {},
   "outputs": [
    {
     "data": {
      "text/plain": [
       "1       False\n",
       "2       False\n",
       "3        True\n",
       "4       False\n",
       "5       False\n",
       "        ...  \n",
       "5626    False\n",
       "5627    False\n",
       "5628    False\n",
       "5629    False\n",
       "5630    False\n",
       "Name: rain_1h, Length: 5630, dtype: bool"
      ]
     },
     "execution_count": 226,
     "metadata": {},
     "output_type": "execute_result"
    }
   ],
   "source": [
    "group_df['rain_1h'].apply(lambda x: x>0)"
   ]
  },
  {
   "cell_type": "code",
   "execution_count": 230,
   "metadata": {},
   "outputs": [],
   "source": [
    "models = []\n",
    "r2 = []\n",
    "\n",
    "for i in range(100):\n",
    "    features = norm_df[[col for col in norm_df if col != 'rain_1h']]\n",
    "    output = group_df['rain_1h'].apply(lambda x: x>0)\n",
    "\n",
    "    x_train, x_test, y_train, y_test = train_test_split(features,output,test_size = 0.2)\n",
    "\n",
    "    model = LinearRegression()\n",
    "\n",
    "    model.fit(x_train,y_train)\n",
    "\n",
    "    y_pred = model.predict(x_test)\n",
    "\n",
    "    score = model.score(x_test,y_test)\n",
    "    \n",
    "    models.append(model)\n",
    "    r2.append(score)"
   ]
  },
  {
   "cell_type": "code",
   "execution_count": 231,
   "metadata": {
    "scrolled": false
   },
   "outputs": [
    {
     "data": {
      "text/plain": [
       "[<matplotlib.lines.Line2D at 0x167c71a1388>]"
      ]
     },
     "execution_count": 231,
     "metadata": {},
     "output_type": "execute_result"
    },
    {
     "data": {
      "image/png": "[encoded data removed]",
      "text/plain": [
       "<Figure size 1440x576 with 1 Axes>"
      ]
     },
     "metadata": {
      "needs_background": "light"
     },
     "output_type": "display_data"
    }
   ],
   "source": [
    "plt.subplots(figsize=(20,8))\n",
    "plt.plot(r2)"
   ]
  },
  {
   "cell_type": "code",
   "execution_count": null,
   "metadata": {},
   "outputs": [],
   "source": []
  }
 ],
 "metadata": {
  "kernelspec": {
   "display_name": "Python 3",
   "language": "python",
   "name": "python3"
  },
  "language_info": {
   "codemirror_mode": {
    "name": "ipython",
    "version": 3
   },
   "file_extension": ".py",
   "mimetype": "text/x-python",
   "name": "python",
   "nbconvert_exporter": "python",
   "pygments_lexer": "ipython3",
   "version": "3.8.5"
  }
 },
 "nbformat": 4,
 "nbformat_minor": 4
}
