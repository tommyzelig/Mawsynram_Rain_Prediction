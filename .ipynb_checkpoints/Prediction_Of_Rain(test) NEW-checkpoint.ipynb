{
 "cells": [
  {
   "cell_type": "markdown",
   "metadata": {},
   "source": [
    "# Prediction of rainfall in Mawsynram, India"
   ]
  },
  {
   "cell_type": "markdown",
   "metadata": {},
   "source": [
    " \n",
    "Forcasting Rainfall is very crucial for any types of agricultural task. Climate related data is important to analyse agricultural and crop seeding related field, where those data can be used to show the predict the rainfall in different season also for different types of crops.\n",
    "There are several reasons why weather forecasts are important. They would certainly be missed if they were not there. It is a product of science that impacts the lives of many people. The following is a list of various reasons why weather forecasts are important: Helps people prepare for how to dress, Helps people plan outdoor activitie, Helps curious people to know what sort of weather can be expected, Helps businesses plan for transportation hazards that can result from the weather, Helps people with health related issues to plan the day, Helps businesses and people plan for severe weather and other weather hazards,Helps farmers and gardeners plan for crop irrigation and protection, Helps people involved with certain activities to know if conditions will be good, Helps people know outside weather dangers, Make an uncertain future a little more certain. \n"
   ]
  },
  {
   "cell_type": "markdown",
   "metadata": {},
   "source": [
    "# Will it be rain tomarrow ?"
   ]
  },
  {
   "cell_type": "markdown",
   "metadata": {},
   "source": [
    " After i did my mini reaserch, before diving into the deep of this project. I learned that taking a random city, like - Jerusalem - it's not a good idea for proving a connection between prediction of rain and other weather's feature. I got so little rainy days for this hot city.\n",
    "And as a result the model of the machine learning was not accurate enough. At this moment i started to think - that the bigger the number of rainy days, the accurate the model will be, and i need to search for other place in the world :(.\n",
    "\n",
    "I chose to go to the other side of the coin - the wattest place in the world - 'Mawsynram',India."
   ]
  },
  {
   "cell_type": "markdown",
   "metadata": {},
   "source": [
    "##### IMPORTING ALL THE PACKAGES  REQUIRED "
   ]
  },
  {
   "cell_type": "code",
   "execution_count": 2,
   "metadata": {},
   "outputs": [
    {
     "name": "stdout",
     "output_type": "stream",
     "text": [
      "Requirement already satisfied: wwo-hist in c:\\users\\tommy\\anaconda3\\lib\\site-packages (0.0.7)\n"
     ]
    }
   ],
   "source": [
    "import os\n",
    "import sys\n",
    "!{sys.executable} -m pip install wwo-hist\n",
    "import numpy as np  \n",
    "import pandas as pd  \n",
    "import seaborn as sns\n",
    "import matplotlib.pyplot as plt\n",
    "from sklearn.model_selection import train_test_split\n",
    "from sklearn.model_selection import train_test_split\n",
    "from sklearn.tree import DecisionTreeClassifier\n",
    "from sklearn.linear_model import LogisticRegression, LinearRegression\n",
    "%matplotlib inline\n",
    "from sklearn.preprocessing import StandardScaler\n",
    "import time\n",
    "import datetime as dt\n",
    "from datetime import datetime\n",
    "from matplotlib.pyplot import rcParams\n",
    "from sklearn import linear_model\n",
    "import matplotlib.pyplot as mp\n",
    "import seaborn as sb\n",
    "from sklearn.preprocessing import normalize"
   ]
  },
  {
   "cell_type": "markdown",
   "metadata": {},
   "source": [
    "## -----------------------------------------------------------------------------------------------------------------------"
   ]
  },
  {
   "cell_type": "markdown",
   "metadata": {},
   "source": [
    "# Mini research for choosing the right place to pull weather on.\n",
    "I started by downloding simple csv data on jerusalem"
   ]
  },
  {
   "cell_type": "code",
   "execution_count": 343,
   "metadata": {},
   "outputs": [
    {
     "name": "stdout",
     "output_type": "stream",
     "text": [
      "                               dt_iso  timezone  city_name        lat  \\\n",
      "0       2006-01-01 00:00:00 +0000 UTC      7200  Jerusalem  31.768319   \n",
      "1       2006-01-01 01:00:00 +0000 UTC      7200  Jerusalem  31.768319   \n",
      "2       2006-01-01 02:00:00 +0000 UTC      7200  Jerusalem  31.768319   \n",
      "3       2006-01-01 03:00:00 +0000 UTC      7200  Jerusalem  31.768319   \n",
      "4       2006-01-01 04:00:00 +0000 UTC      7200  Jerusalem  31.768319   \n",
      "...                               ...       ...        ...        ...   \n",
      "135253  2021-06-01 19:00:00 +0000 UTC     10800  Jerusalem  31.768319   \n",
      "135254  2021-06-01 20:00:00 +0000 UTC     10800  Jerusalem  31.768319   \n",
      "135255  2021-06-01 21:00:00 +0000 UTC     10800  Jerusalem  31.768319   \n",
      "135256  2021-06-01 22:00:00 +0000 UTC     10800  Jerusalem  31.768319   \n",
      "135257  2021-06-01 23:00:00 +0000 UTC     10800  Jerusalem  31.768319   \n",
      "\n",
      "             lon   temp  feels_like  temp_min  temp_max  pressure  ...  \\\n",
      "0       35.21371  11.82       10.15     10.30     14.67      1020  ...   \n",
      "1       35.21371  12.27       10.91     11.06     14.90      1019  ...   \n",
      "2       35.21371  12.60       10.96     10.45     14.91      1018  ...   \n",
      "3       35.21371  12.92       11.56     10.70     14.86      1019  ...   \n",
      "4       35.21371  12.53       10.11     10.22     14.46      1018  ...   \n",
      "...          ...    ...         ...       ...       ...       ...  ...   \n",
      "135253  35.21371  21.67       20.95     18.33     28.16      1012  ...   \n",
      "135254  35.21371  20.91       20.65     17.78     26.96      1012  ...   \n",
      "135255  35.21371  20.79       20.49     17.22     26.96      1013  ...   \n",
      "135256  35.21371  20.28       20.53     16.67     26.96      1012  ...   \n",
      "135257  35.21371  19.38       18.62     16.11     26.25      1012  ...   \n",
      "\n",
      "        wind_deg  rain_1h  rain_3h  snow_1h  snow_3h  clouds_all  weather_id  \\\n",
      "0             30      NaN      NaN      NaN      NaN          90         804   \n",
      "1              0      NaN      NaN      NaN      NaN           0         800   \n",
      "2            130      NaN      NaN      NaN      NaN           0         800   \n",
      "3            130      NaN      NaN      NaN      NaN          40         802   \n",
      "4            140      NaN      NaN      NaN      NaN           0         800   \n",
      "...          ...      ...      ...      ...      ...         ...         ...   \n",
      "135253       290      NaN      NaN      NaN      NaN           0         800   \n",
      "135254       290      NaN      NaN      NaN      NaN           0         800   \n",
      "135255       270      NaN      NaN      NaN      NaN           0         800   \n",
      "135256         0      NaN      NaN      NaN      NaN           0         800   \n",
      "135257       150      NaN      NaN      NaN      NaN           0         800   \n",
      "\n",
      "        weather_main  weather_description  weather_icon  \n",
      "0             Clouds      overcast clouds           04n  \n",
      "1              Clear         sky is clear           01n  \n",
      "2              Clear         sky is clear           01n  \n",
      "3             Clouds     scattered clouds           03n  \n",
      "4              Clear         sky is clear           01n  \n",
      "...              ...                  ...           ...  \n",
      "135253         Clear         sky is clear           01n  \n",
      "135254         Clear         sky is clear           01n  \n",
      "135255         Clear         sky is clear           01n  \n",
      "135256         Clear         sky is clear           01n  \n",
      "135257         Clear         sky is clear           01n  \n",
      "\n",
      "[135258 rows x 24 columns]\n"
     ]
    }
   ],
   "source": [
    "df_mini = pd.read_csv(\"historical_weather2006-2021.csv\")\n",
    "print (df_mini)"
   ]
  },
  {
   "cell_type": "markdown",
   "metadata": {},
   "source": [
    "##### Drop all NaN Columns"
   ]
  },
  {
   "cell_type": "code",
   "execution_count": 344,
   "metadata": {},
   "outputs": [
    {
     "name": "stdout",
     "output_type": "stream",
     "text": [
      "sea_level\n",
      "grnd_level\n",
      "rain_3h\n",
      "snow_1h\n",
      "snow_3h\n"
     ]
    }
   ],
   "source": [
    "for col in df_mini.columns:\n",
    "    if df_mini[col].count() == 0:\n",
    "        print(col)\n",
    "        df_mini.drop(col,axis='columns',inplace=True)"
   ]
  },
  {
   "cell_type": "markdown",
   "metadata": {},
   "source": [
    "##### Drop Columns with Only One Unique Value"
   ]
  },
  {
   "cell_type": "code",
   "execution_count": 345,
   "metadata": {},
   "outputs": [
    {
     "name": "stdout",
     "output_type": "stream",
     "text": [
      "city_name\n",
      "lat\n",
      "lon\n"
     ]
    }
   ],
   "source": [
    "for col in df_mini.columns:\n",
    "    if len(df_mini[col].unique()) == 1:\n",
    "        print(col)\n",
    "        df_mini.drop(col,axis='columns',inplace=True)"
   ]
  },
  {
   "cell_type": "markdown",
   "metadata": {},
   "source": [
    "####  Keep only independent and relevant variables Drop Columns with Only One Unique Value"
   ]
  },
  {
   "cell_type": "code",
   "execution_count": 346,
   "metadata": {},
   "outputs": [],
   "source": [
    "cols_drop = ['feels_like','timezone','weather_id','weather_icon','weather_description','weather_main'] \n",
    "df_mini.drop(cols_drop,axis='columns',inplace=True)"
   ]
  },
  {
   "cell_type": "markdown",
   "metadata": {},
   "source": [
    "##### Fix date"
   ]
  },
  {
   "cell_type": "code",
   "execution_count": 347,
   "metadata": {},
   "outputs": [],
   "source": [
    "df_mini['dt_iso'] = df_mini['dt_iso'].apply(lambda x: x.split(' ')[0])"
   ]
  },
  {
   "cell_type": "code",
   "execution_count": 348,
   "metadata": {},
   "outputs": [],
   "source": [
    "df_mini['dt_iso'] = pd.to_datetime(df_mini['dt_iso'])"
   ]
  },
  {
   "cell_type": "markdown",
   "metadata": {},
   "source": [
    "##### fill NaN in rain_1h with 0"
   ]
  },
  {
   "cell_type": "code",
   "execution_count": 349,
   "metadata": {},
   "outputs": [],
   "source": [
    "df_mini['rain_1h'].fillna(0,inplace=True)"
   ]
  },
  {
   "cell_type": "markdown",
   "metadata": {},
   "source": [
    "##### Group by Date"
   ]
  },
  {
   "cell_type": "code",
   "execution_count": 350,
   "metadata": {},
   "outputs": [],
   "source": [
    "group = df_mini.groupby('dt_iso',as_index=False).mean()"
   ]
  },
  {
   "cell_type": "code",
   "execution_count": 351,
   "metadata": {},
   "outputs": [],
   "source": [
    "for i in group.index:\n",
    "    group.loc[i+1,'yesterday'] = group.loc[i, 'rain_1h']"
   ]
  },
  {
   "cell_type": "code",
   "execution_count": 352,
   "metadata": {},
   "outputs": [],
   "source": [
    "group.dropna(inplace=True)"
   ]
  },
  {
   "cell_type": "markdown",
   "metadata": {},
   "source": [
    "##### Drop Date column"
   ]
  },
  {
   "cell_type": "code",
   "execution_count": 353,
   "metadata": {},
   "outputs": [],
   "source": [
    "group.drop('dt_iso', axis=1, inplace=True)"
   ]
  },
  {
   "cell_type": "markdown",
   "metadata": {},
   "source": [
    "##### Normalize for "
   ]
  },
  {
   "cell_type": "code",
   "execution_count": 354,
   "metadata": {},
   "outputs": [],
   "source": [
    "norm = pd.DataFrame(normalize(group,axis=1),index=group.index,columns=group.columns)"
   ]
  },
  {
   "cell_type": "code",
   "execution_count": 355,
   "metadata": {},
   "outputs": [
    {
     "name": "stdout",
     "output_type": "stream",
     "text": [
      "          temp  temp_min  temp_max  pressure  humidity  wind_speed  wind_deg  \\\n",
      "1     0.014811  0.012895  0.016841  0.985442  0.060431    0.002238  0.156734   \n",
      "2     0.015956  0.010923  0.019431  0.996029  0.028503    0.003500  0.076772   \n",
      "3     0.017134  0.011403  0.020185  0.993132  0.031371    0.008685  0.096274   \n",
      "4     0.017300  0.013553  0.020091  0.986498  0.049392    0.002432  0.153037   \n",
      "5     0.014820  0.012393  0.017301  0.961909  0.064172    0.002233  0.262378   \n",
      "...        ...       ...       ...       ...       ...         ...       ...   \n",
      "5626  0.023375  0.021113  0.027410  0.977054  0.064675    0.003274  0.198256   \n",
      "5627  0.022058  0.019577  0.026175  0.978469  0.067959    0.003193  0.190655   \n",
      "5628  0.023437  0.021358  0.027082  0.982943  0.057123    0.003102  0.169508   \n",
      "5629  0.027074  0.024522  0.031246  0.985626  0.049883    0.003454  0.153801   \n",
      "5630  0.023179  0.020464  0.027352  0.981482  0.061102    0.002893  0.176428   \n",
      "\n",
      "      rain_1h  clouds_all  yesterday  \n",
      "1     0.00000    0.003555    0.00000  \n",
      "2     0.00000    0.021357    0.00000  \n",
      "3     0.00005    0.050299    0.00000  \n",
      "4     0.00000    0.008306    0.00005  \n",
      "5     0.00000    0.033074    0.00000  \n",
      "...       ...         ...        ...  \n",
      "5626  0.00000    0.011081    0.00000  \n",
      "5627  0.00000    0.008062    0.00000  \n",
      "5628  0.00000    0.008900    0.00000  \n",
      "5629  0.00000    0.008748    0.00000  \n",
      "5630  0.00000    0.010926    0.00000  \n",
      "\n",
      "[5630 rows x 10 columns]\n"
     ]
    }
   ],
   "source": [
    "print (norm)"
   ]
  },
  {
   "cell_type": "markdown",
   "metadata": {},
   "source": [
    "## ML Model"
   ]
  },
  {
   "cell_type": "markdown",
   "metadata": {},
   "source": [
    "### Linear Regression"
   ]
  },
  {
   "cell_type": "markdown",
   "metadata": {},
   "source": [
    "##### For rain amount"
   ]
  },
  {
   "cell_type": "code",
   "execution_count": 356,
   "metadata": {},
   "outputs": [],
   "source": [
    "features = norm[[col for col in norm if col != 'rain_1h']]\n",
    "output = norm['rain_1h']"
   ]
  },
  {
   "cell_type": "code",
   "execution_count": 357,
   "metadata": {},
   "outputs": [],
   "source": [
    "x_train, x_test, y_train, y_test = train_test_split(features,output,test_size = 0.2)"
   ]
  },
  {
   "cell_type": "code",
   "execution_count": 358,
   "metadata": {},
   "outputs": [],
   "source": [
    "model = LinearRegression()"
   ]
  },
  {
   "cell_type": "code",
   "execution_count": 359,
   "metadata": {},
   "outputs": [
    {
     "data": {
      "text/plain": [
       "LinearRegression()"
      ]
     },
     "execution_count": 359,
     "metadata": {},
     "output_type": "execute_result"
    }
   ],
   "source": [
    "model.fit(x_train,y_train)"
   ]
  },
  {
   "cell_type": "code",
   "execution_count": 360,
   "metadata": {},
   "outputs": [
    {
     "data": {
      "text/html": [
       "<div>\n",
       "<style scoped>\n",
       "    .dataframe tbody tr th:only-of-type {\n",
       "        vertical-align: middle;\n",
       "    }\n",
       "\n",
       "    .dataframe tbody tr th {\n",
       "        vertical-align: top;\n",
       "    }\n",
       "\n",
       "    .dataframe thead th {\n",
       "        text-align: right;\n",
       "    }\n",
       "</style>\n",
       "<table border=\"1\" class=\"dataframe\">\n",
       "  <thead>\n",
       "    <tr style=\"text-align: right;\">\n",
       "      <th></th>\n",
       "      <th>Coef</th>\n",
       "    </tr>\n",
       "  </thead>\n",
       "  <tbody>\n",
       "    <tr>\n",
       "      <th>temp</th>\n",
       "      <td>-0.025297</td>\n",
       "    </tr>\n",
       "    <tr>\n",
       "      <th>temp_min</th>\n",
       "      <td>0.001612</td>\n",
       "    </tr>\n",
       "    <tr>\n",
       "      <th>temp_max</th>\n",
       "      <td>0.021749</td>\n",
       "    </tr>\n",
       "    <tr>\n",
       "      <th>pressure</th>\n",
       "      <td>-0.001267</td>\n",
       "    </tr>\n",
       "    <tr>\n",
       "      <th>humidity</th>\n",
       "      <td>0.000789</td>\n",
       "    </tr>\n",
       "    <tr>\n",
       "      <th>wind_speed</th>\n",
       "      <td>0.027448</td>\n",
       "    </tr>\n",
       "    <tr>\n",
       "      <th>wind_deg</th>\n",
       "      <td>-0.000339</td>\n",
       "    </tr>\n",
       "    <tr>\n",
       "      <th>clouds_all</th>\n",
       "      <td>0.001125</td>\n",
       "    </tr>\n",
       "    <tr>\n",
       "      <th>yesterday</th>\n",
       "      <td>0.273093</td>\n",
       "    </tr>\n",
       "  </tbody>\n",
       "</table>\n",
       "</div>"
      ],
      "text/plain": [
       "                Coef\n",
       "temp       -0.025297\n",
       "temp_min    0.001612\n",
       "temp_max    0.021749\n",
       "pressure   -0.001267\n",
       "humidity    0.000789\n",
       "wind_speed  0.027448\n",
       "wind_deg   -0.000339\n",
       "clouds_all  0.001125\n",
       "yesterday   0.273093"
      ]
     },
     "execution_count": 360,
     "metadata": {},
     "output_type": "execute_result"
    }
   ],
   "source": [
    "pd.DataFrame(model.coef_,index=features.columns,columns=['Coef'])"
   ]
  },
  {
   "cell_type": "code",
   "execution_count": 361,
   "metadata": {},
   "outputs": [],
   "source": [
    "y_pred = model.predict(x_test)"
   ]
  },
  {
   "cell_type": "code",
   "execution_count": 362,
   "metadata": {},
   "outputs": [
    {
     "data": {
      "text/plain": [
       "0.40128980152982674"
      ]
     },
     "execution_count": 362,
     "metadata": {},
     "output_type": "execute_result"
    }
   ],
   "source": [
    "model.score(x_test,y_test)"
   ]
  },
  {
   "cell_type": "markdown",
   "metadata": {},
   "source": [
    "## --------------------------------------------------------------------------------------------------------------------"
   ]
  },
  {
   "cell_type": "markdown",
   "metadata": {},
   "source": [
    "# Level 1- Data Acquisition "
   ]
  },
  {
   "cell_type": "markdown",
   "metadata": {},
   "source": [
    "###### Using an api to extract the data from https://www.worldweatheronline.com/ to csv file\n",
    "Im using the name of the city, range between 2 dates and key that i needed"
   ]
  },
  {
   "cell_type": "code",
   "execution_count": 3,
   "metadata": {},
   "outputs": [],
   "source": [
    "key='58ad68ddc757469cacc182047211906' # API key obtained from https://www.worldweatheronline.com/\n",
    "locations=['Mawsynram'] # list of strings containg US Zipcode, UK Postcode, Canada Postalcode, IP address, Latitude/Longitude (decimal degree) or city name  \n",
    "start='2008-07-01' # date when desired scraping period starts; preferred date format: 'dd-mmm-yyyy'\n",
    "end='2021-06-18' # date when desired scraping period ends; preferred date format: 'dd-mmm-yyyy\n",
    "freq=24 # frequency between observations; possible values 1 (1 hour), 3 (3 hours), 6 (6 hours), 12 (12 hours (day/night)) or 24 (daily averages)"
   ]
  },
  {
   "cell_type": "code",
   "execution_count": 89,
   "metadata": {},
   "outputs": [],
   "source": [
    "hist_weather_data = wwo_hist.retrieve_hist_data(\n",
    "    api_key=key, \n",
    "    location_list=locations, \n",
    "    start_date=start, \n",
    "    end_date=end, \n",
    "    frequency=freq, \n",
    "    location_label=False, \n",
    "    export_csv=True, \n",
    "    store_df=False\n",
    ")"
   ]
  },
  {
   "cell_type": "markdown",
   "metadata": {},
   "source": [
    "# Level 2- Data Cleaninng "
   ]
  },
  {
   "cell_type": "code",
   "execution_count": 4,
   "metadata": {},
   "outputs": [
    {
     "data": {
      "text/html": [
       "<div>\n",
       "<style scoped>\n",
       "    .dataframe tbody tr th:only-of-type {\n",
       "        vertical-align: middle;\n",
       "    }\n",
       "\n",
       "    .dataframe tbody tr th {\n",
       "        vertical-align: top;\n",
       "    }\n",
       "\n",
       "    .dataframe thead th {\n",
       "        text-align: right;\n",
       "    }\n",
       "</style>\n",
       "<table border=\"1\" class=\"dataframe\">\n",
       "  <thead>\n",
       "    <tr style=\"text-align: right;\">\n",
       "      <th></th>\n",
       "      <th>date_time</th>\n",
       "      <th>maxtempC</th>\n",
       "      <th>mintempC</th>\n",
       "      <th>totalSnow_cm</th>\n",
       "      <th>sunHour</th>\n",
       "      <th>uvIndex</th>\n",
       "      <th>moon_illumination</th>\n",
       "      <th>moonrise</th>\n",
       "      <th>moonset</th>\n",
       "      <th>sunrise</th>\n",
       "      <th>...</th>\n",
       "      <th>WindGustKmph</th>\n",
       "      <th>cloudcover</th>\n",
       "      <th>humidity</th>\n",
       "      <th>precipMM</th>\n",
       "      <th>pressure</th>\n",
       "      <th>tempC</th>\n",
       "      <th>visibility</th>\n",
       "      <th>winddirDegree</th>\n",
       "      <th>windspeedKmph</th>\n",
       "      <th>location</th>\n",
       "    </tr>\n",
       "  </thead>\n",
       "  <tbody>\n",
       "    <tr>\n",
       "      <th>0</th>\n",
       "      <td>2008-07-01</td>\n",
       "      <td>26</td>\n",
       "      <td>19</td>\n",
       "      <td>0.0</td>\n",
       "      <td>8.6</td>\n",
       "      <td>5</td>\n",
       "      <td>4</td>\n",
       "      <td>02:14 AM</td>\n",
       "      <td>04:41 PM</td>\n",
       "      <td>04:37 AM</td>\n",
       "      <td>...</td>\n",
       "      <td>9</td>\n",
       "      <td>96</td>\n",
       "      <td>99</td>\n",
       "      <td>69.0</td>\n",
       "      <td>1003</td>\n",
       "      <td>26</td>\n",
       "      <td>6</td>\n",
       "      <td>190</td>\n",
       "      <td>6</td>\n",
       "      <td>Mawsynram</td>\n",
       "    </tr>\n",
       "    <tr>\n",
       "      <th>1</th>\n",
       "      <td>2008-07-02</td>\n",
       "      <td>25</td>\n",
       "      <td>19</td>\n",
       "      <td>0.0</td>\n",
       "      <td>8.6</td>\n",
       "      <td>5</td>\n",
       "      <td>0</td>\n",
       "      <td>03:18 AM</td>\n",
       "      <td>05:48 PM</td>\n",
       "      <td>04:37 AM</td>\n",
       "      <td>...</td>\n",
       "      <td>4</td>\n",
       "      <td>100</td>\n",
       "      <td>99</td>\n",
       "      <td>51.7</td>\n",
       "      <td>1002</td>\n",
       "      <td>25</td>\n",
       "      <td>7</td>\n",
       "      <td>180</td>\n",
       "      <td>3</td>\n",
       "      <td>Mawsynram</td>\n",
       "    </tr>\n",
       "    <tr>\n",
       "      <th>2</th>\n",
       "      <td>2008-07-03</td>\n",
       "      <td>24</td>\n",
       "      <td>20</td>\n",
       "      <td>0.0</td>\n",
       "      <td>8.6</td>\n",
       "      <td>5</td>\n",
       "      <td>0</td>\n",
       "      <td>04:26 AM</td>\n",
       "      <td>06:47 PM</td>\n",
       "      <td>04:37 AM</td>\n",
       "      <td>...</td>\n",
       "      <td>6</td>\n",
       "      <td>99</td>\n",
       "      <td>99</td>\n",
       "      <td>102.1</td>\n",
       "      <td>1002</td>\n",
       "      <td>24</td>\n",
       "      <td>5</td>\n",
       "      <td>215</td>\n",
       "      <td>3</td>\n",
       "      <td>Mawsynram</td>\n",
       "    </tr>\n",
       "    <tr>\n",
       "      <th>3</th>\n",
       "      <td>2008-07-04</td>\n",
       "      <td>25</td>\n",
       "      <td>19</td>\n",
       "      <td>0.0</td>\n",
       "      <td>8.6</td>\n",
       "      <td>5</td>\n",
       "      <td>3</td>\n",
       "      <td>05:38 AM</td>\n",
       "      <td>07:37 PM</td>\n",
       "      <td>04:38 AM</td>\n",
       "      <td>...</td>\n",
       "      <td>6</td>\n",
       "      <td>100</td>\n",
       "      <td>99</td>\n",
       "      <td>45.5</td>\n",
       "      <td>1003</td>\n",
       "      <td>25</td>\n",
       "      <td>7</td>\n",
       "      <td>167</td>\n",
       "      <td>4</td>\n",
       "      <td>Mawsynram</td>\n",
       "    </tr>\n",
       "    <tr>\n",
       "      <th>4</th>\n",
       "      <td>2008-07-05</td>\n",
       "      <td>22</td>\n",
       "      <td>19</td>\n",
       "      <td>0.0</td>\n",
       "      <td>8.6</td>\n",
       "      <td>5</td>\n",
       "      <td>10</td>\n",
       "      <td>06:46 AM</td>\n",
       "      <td>08:20 PM</td>\n",
       "      <td>04:38 AM</td>\n",
       "      <td>...</td>\n",
       "      <td>4</td>\n",
       "      <td>100</td>\n",
       "      <td>99</td>\n",
       "      <td>46.5</td>\n",
       "      <td>1002</td>\n",
       "      <td>22</td>\n",
       "      <td>7</td>\n",
       "      <td>161</td>\n",
       "      <td>3</td>\n",
       "      <td>Mawsynram</td>\n",
       "    </tr>\n",
       "    <tr>\n",
       "      <th>...</th>\n",
       "      <td>...</td>\n",
       "      <td>...</td>\n",
       "      <td>...</td>\n",
       "      <td>...</td>\n",
       "      <td>...</td>\n",
       "      <td>...</td>\n",
       "      <td>...</td>\n",
       "      <td>...</td>\n",
       "      <td>...</td>\n",
       "      <td>...</td>\n",
       "      <td>...</td>\n",
       "      <td>...</td>\n",
       "      <td>...</td>\n",
       "      <td>...</td>\n",
       "      <td>...</td>\n",
       "      <td>...</td>\n",
       "      <td>...</td>\n",
       "      <td>...</td>\n",
       "      <td>...</td>\n",
       "      <td>...</td>\n",
       "      <td>...</td>\n",
       "    </tr>\n",
       "    <tr>\n",
       "      <th>4731</th>\n",
       "      <td>2021-06-14</td>\n",
       "      <td>24</td>\n",
       "      <td>17</td>\n",
       "      <td>0.0</td>\n",
       "      <td>11.0</td>\n",
       "      <td>5</td>\n",
       "      <td>26</td>\n",
       "      <td>07:37 AM</td>\n",
       "      <td>09:35 PM</td>\n",
       "      <td>04:33 AM</td>\n",
       "      <td>...</td>\n",
       "      <td>4</td>\n",
       "      <td>66</td>\n",
       "      <td>91</td>\n",
       "      <td>22.5</td>\n",
       "      <td>1001</td>\n",
       "      <td>24</td>\n",
       "      <td>8</td>\n",
       "      <td>178</td>\n",
       "      <td>2</td>\n",
       "      <td>Mawsynram</td>\n",
       "    </tr>\n",
       "    <tr>\n",
       "      <th>4732</th>\n",
       "      <td>2021-06-15</td>\n",
       "      <td>24</td>\n",
       "      <td>16</td>\n",
       "      <td>0.0</td>\n",
       "      <td>8.6</td>\n",
       "      <td>5</td>\n",
       "      <td>34</td>\n",
       "      <td>08:34 AM</td>\n",
       "      <td>10:16 PM</td>\n",
       "      <td>04:33 AM</td>\n",
       "      <td>...</td>\n",
       "      <td>10</td>\n",
       "      <td>83</td>\n",
       "      <td>92</td>\n",
       "      <td>36.3</td>\n",
       "      <td>1000</td>\n",
       "      <td>24</td>\n",
       "      <td>8</td>\n",
       "      <td>163</td>\n",
       "      <td>6</td>\n",
       "      <td>Mawsynram</td>\n",
       "    </tr>\n",
       "    <tr>\n",
       "      <th>4733</th>\n",
       "      <td>2021-06-16</td>\n",
       "      <td>24</td>\n",
       "      <td>18</td>\n",
       "      <td>0.0</td>\n",
       "      <td>9.8</td>\n",
       "      <td>5</td>\n",
       "      <td>42</td>\n",
       "      <td>09:32 AM</td>\n",
       "      <td>10:54 PM</td>\n",
       "      <td>04:33 AM</td>\n",
       "      <td>...</td>\n",
       "      <td>10</td>\n",
       "      <td>73</td>\n",
       "      <td>88</td>\n",
       "      <td>10.1</td>\n",
       "      <td>1001</td>\n",
       "      <td>24</td>\n",
       "      <td>9</td>\n",
       "      <td>143</td>\n",
       "      <td>7</td>\n",
       "      <td>Mawsynram</td>\n",
       "    </tr>\n",
       "    <tr>\n",
       "      <th>4734</th>\n",
       "      <td>2021-06-17</td>\n",
       "      <td>24</td>\n",
       "      <td>15</td>\n",
       "      <td>0.0</td>\n",
       "      <td>8.6</td>\n",
       "      <td>5</td>\n",
       "      <td>49</td>\n",
       "      <td>10:30 AM</td>\n",
       "      <td>11:31 PM</td>\n",
       "      <td>04:33 AM</td>\n",
       "      <td>...</td>\n",
       "      <td>12</td>\n",
       "      <td>78</td>\n",
       "      <td>86</td>\n",
       "      <td>8.4</td>\n",
       "      <td>1004</td>\n",
       "      <td>24</td>\n",
       "      <td>7</td>\n",
       "      <td>157</td>\n",
       "      <td>9</td>\n",
       "      <td>Mawsynram</td>\n",
       "    </tr>\n",
       "    <tr>\n",
       "      <th>4735</th>\n",
       "      <td>2021-06-18</td>\n",
       "      <td>24</td>\n",
       "      <td>15</td>\n",
       "      <td>0.0</td>\n",
       "      <td>8.6</td>\n",
       "      <td>5</td>\n",
       "      <td>57</td>\n",
       "      <td>11:30 AM</td>\n",
       "      <td>No moonset</td>\n",
       "      <td>04:33 AM</td>\n",
       "      <td>...</td>\n",
       "      <td>13</td>\n",
       "      <td>74</td>\n",
       "      <td>88</td>\n",
       "      <td>12.4</td>\n",
       "      <td>1005</td>\n",
       "      <td>24</td>\n",
       "      <td>9</td>\n",
       "      <td>147</td>\n",
       "      <td>9</td>\n",
       "      <td>Mawsynram</td>\n",
       "    </tr>\n",
       "  </tbody>\n",
       "</table>\n",
       "<p>4736 rows × 25 columns</p>\n",
       "</div>"
      ],
      "text/plain": [
       "       date_time  maxtempC  mintempC  totalSnow_cm  sunHour  uvIndex  \\\n",
       "0     2008-07-01        26        19           0.0      8.6        5   \n",
       "1     2008-07-02        25        19           0.0      8.6        5   \n",
       "2     2008-07-03        24        20           0.0      8.6        5   \n",
       "3     2008-07-04        25        19           0.0      8.6        5   \n",
       "4     2008-07-05        22        19           0.0      8.6        5   \n",
       "...          ...       ...       ...           ...      ...      ...   \n",
       "4731  2021-06-14        24        17           0.0     11.0        5   \n",
       "4732  2021-06-15        24        16           0.0      8.6        5   \n",
       "4733  2021-06-16        24        18           0.0      9.8        5   \n",
       "4734  2021-06-17        24        15           0.0      8.6        5   \n",
       "4735  2021-06-18        24        15           0.0      8.6        5   \n",
       "\n",
       "      moon_illumination  moonrise     moonset   sunrise  ... WindGustKmph  \\\n",
       "0                     4  02:14 AM    04:41 PM  04:37 AM  ...            9   \n",
       "1                     0  03:18 AM    05:48 PM  04:37 AM  ...            4   \n",
       "2                     0  04:26 AM    06:47 PM  04:37 AM  ...            6   \n",
       "3                     3  05:38 AM    07:37 PM  04:38 AM  ...            6   \n",
       "4                    10  06:46 AM    08:20 PM  04:38 AM  ...            4   \n",
       "...                 ...       ...         ...       ...  ...          ...   \n",
       "4731                 26  07:37 AM    09:35 PM  04:33 AM  ...            4   \n",
       "4732                 34  08:34 AM    10:16 PM  04:33 AM  ...           10   \n",
       "4733                 42  09:32 AM    10:54 PM  04:33 AM  ...           10   \n",
       "4734                 49  10:30 AM    11:31 PM  04:33 AM  ...           12   \n",
       "4735                 57  11:30 AM  No moonset  04:33 AM  ...           13   \n",
       "\n",
       "      cloudcover  humidity  precipMM  pressure  tempC  visibility  \\\n",
       "0             96        99      69.0      1003     26           6   \n",
       "1            100        99      51.7      1002     25           7   \n",
       "2             99        99     102.1      1002     24           5   \n",
       "3            100        99      45.5      1003     25           7   \n",
       "4            100        99      46.5      1002     22           7   \n",
       "...          ...       ...       ...       ...    ...         ...   \n",
       "4731          66        91      22.5      1001     24           8   \n",
       "4732          83        92      36.3      1000     24           8   \n",
       "4733          73        88      10.1      1001     24           9   \n",
       "4734          78        86       8.4      1004     24           7   \n",
       "4735          74        88      12.4      1005     24           9   \n",
       "\n",
       "      winddirDegree  windspeedKmph   location  \n",
       "0               190              6  Mawsynram  \n",
       "1               180              3  Mawsynram  \n",
       "2               215              3  Mawsynram  \n",
       "3               167              4  Mawsynram  \n",
       "4               161              3  Mawsynram  \n",
       "...             ...            ...        ...  \n",
       "4731            178              2  Mawsynram  \n",
       "4732            163              6  Mawsynram  \n",
       "4733            143              7  Mawsynram  \n",
       "4734            157              9  Mawsynram  \n",
       "4735            147              9  Mawsynram  \n",
       "\n",
       "[4736 rows x 25 columns]"
      ]
     },
     "execution_count": 4,
     "metadata": {},
     "output_type": "execute_result"
    }
   ],
   "source": [
    "df = pd.read_csv(\"Mawsynram.csv\")\n",
    "df"
   ]
  },
  {
   "cell_type": "markdown",
   "metadata": {},
   "source": [
    "##### Examine Data Statistics\n",
    "Here we can see that in 75% of the days- the weather is very rainy as we need for our search - near the std !\n",
    "Moreover we can examine which feature (column) has constant values. These columns are probabley wan't help us proving the research question - and we should delete them! "
   ]
  },
  {
   "cell_type": "code",
   "execution_count": 5,
   "metadata": {},
   "outputs": [
    {
     "data": {
      "text/html": [
       "<div>\n",
       "<style scoped>\n",
       "    .dataframe tbody tr th:only-of-type {\n",
       "        vertical-align: middle;\n",
       "    }\n",
       "\n",
       "    .dataframe tbody tr th {\n",
       "        vertical-align: top;\n",
       "    }\n",
       "\n",
       "    .dataframe thead th {\n",
       "        text-align: right;\n",
       "    }\n",
       "</style>\n",
       "<table border=\"1\" class=\"dataframe\">\n",
       "  <thead>\n",
       "    <tr style=\"text-align: right;\">\n",
       "      <th></th>\n",
       "      <th>maxtempC</th>\n",
       "      <th>mintempC</th>\n",
       "      <th>totalSnow_cm</th>\n",
       "      <th>sunHour</th>\n",
       "      <th>uvIndex</th>\n",
       "      <th>moon_illumination</th>\n",
       "      <th>DewPointC</th>\n",
       "      <th>FeelsLikeC</th>\n",
       "      <th>HeatIndexC</th>\n",
       "      <th>WindChillC</th>\n",
       "      <th>WindGustKmph</th>\n",
       "      <th>cloudcover</th>\n",
       "      <th>humidity</th>\n",
       "      <th>precipMM</th>\n",
       "      <th>pressure</th>\n",
       "      <th>tempC</th>\n",
       "      <th>visibility</th>\n",
       "      <th>winddirDegree</th>\n",
       "      <th>windspeedKmph</th>\n",
       "    </tr>\n",
       "  </thead>\n",
       "  <tbody>\n",
       "    <tr>\n",
       "      <th>count</th>\n",
       "      <td>4736.000000</td>\n",
       "      <td>4736.000000</td>\n",
       "      <td>4736.0</td>\n",
       "      <td>4736.000000</td>\n",
       "      <td>4736.000000</td>\n",
       "      <td>4736.000000</td>\n",
       "      <td>4736.000000</td>\n",
       "      <td>4736.000000</td>\n",
       "      <td>4736.000000</td>\n",
       "      <td>4736.000000</td>\n",
       "      <td>4736.000000</td>\n",
       "      <td>4736.000000</td>\n",
       "      <td>4736.000000</td>\n",
       "      <td>4736.000000</td>\n",
       "      <td>4736.000000</td>\n",
       "      <td>4736.000000</td>\n",
       "      <td>4736.000000</td>\n",
       "      <td>4736.000000</td>\n",
       "      <td>4736.000000</td>\n",
       "    </tr>\n",
       "    <tr>\n",
       "      <th>mean</th>\n",
       "      <td>22.349662</td>\n",
       "      <td>14.780405</td>\n",
       "      <td>0.0</td>\n",
       "      <td>9.944172</td>\n",
       "      <td>4.556377</td>\n",
       "      <td>46.048564</td>\n",
       "      <td>15.386824</td>\n",
       "      <td>18.889147</td>\n",
       "      <td>19.376900</td>\n",
       "      <td>18.506123</td>\n",
       "      <td>6.545819</td>\n",
       "      <td>49.094172</td>\n",
       "      <td>84.071368</td>\n",
       "      <td>17.857432</td>\n",
       "      <td>1009.281039</td>\n",
       "      <td>22.349662</td>\n",
       "      <td>7.594595</td>\n",
       "      <td>180.406039</td>\n",
       "      <td>4.073480</td>\n",
       "    </tr>\n",
       "    <tr>\n",
       "      <th>std</th>\n",
       "      <td>2.991821</td>\n",
       "      <td>4.958872</td>\n",
       "      <td>0.0</td>\n",
       "      <td>1.977156</td>\n",
       "      <td>0.747675</td>\n",
       "      <td>31.273643</td>\n",
       "      <td>5.534787</td>\n",
       "      <td>4.325090</td>\n",
       "      <td>4.554127</td>\n",
       "      <td>3.830181</td>\n",
       "      <td>3.180460</td>\n",
       "      <td>28.354678</td>\n",
       "      <td>13.613164</td>\n",
       "      <td>25.785133</td>\n",
       "      <td>5.320220</td>\n",
       "      <td>2.991821</td>\n",
       "      <td>1.794019</td>\n",
       "      <td>48.457312</td>\n",
       "      <td>2.088862</td>\n",
       "    </tr>\n",
       "    <tr>\n",
       "      <th>min</th>\n",
       "      <td>11.000000</td>\n",
       "      <td>1.000000</td>\n",
       "      <td>0.0</td>\n",
       "      <td>3.900000</td>\n",
       "      <td>2.000000</td>\n",
       "      <td>0.000000</td>\n",
       "      <td>-4.000000</td>\n",
       "      <td>7.000000</td>\n",
       "      <td>7.000000</td>\n",
       "      <td>7.000000</td>\n",
       "      <td>2.000000</td>\n",
       "      <td>0.000000</td>\n",
       "      <td>20.000000</td>\n",
       "      <td>0.000000</td>\n",
       "      <td>993.000000</td>\n",
       "      <td>11.000000</td>\n",
       "      <td>3.000000</td>\n",
       "      <td>30.000000</td>\n",
       "      <td>1.000000</td>\n",
       "    </tr>\n",
       "    <tr>\n",
       "      <th>25%</th>\n",
       "      <td>20.000000</td>\n",
       "      <td>11.000000</td>\n",
       "      <td>0.0</td>\n",
       "      <td>8.700000</td>\n",
       "      <td>4.000000</td>\n",
       "      <td>18.000000</td>\n",
       "      <td>10.000000</td>\n",
       "      <td>16.000000</td>\n",
       "      <td>16.000000</td>\n",
       "      <td>16.000000</td>\n",
       "      <td>4.000000</td>\n",
       "      <td>23.750000</td>\n",
       "      <td>78.000000</td>\n",
       "      <td>0.300000</td>\n",
       "      <td>1005.000000</td>\n",
       "      <td>20.000000</td>\n",
       "      <td>6.000000</td>\n",
       "      <td>152.000000</td>\n",
       "      <td>3.000000</td>\n",
       "    </tr>\n",
       "    <tr>\n",
       "      <th>50%</th>\n",
       "      <td>23.000000</td>\n",
       "      <td>16.000000</td>\n",
       "      <td>0.0</td>\n",
       "      <td>10.100000</td>\n",
       "      <td>5.000000</td>\n",
       "      <td>46.000000</td>\n",
       "      <td>16.000000</td>\n",
       "      <td>20.000000</td>\n",
       "      <td>20.000000</td>\n",
       "      <td>20.000000</td>\n",
       "      <td>6.000000</td>\n",
       "      <td>51.000000</td>\n",
       "      <td>88.000000</td>\n",
       "      <td>9.400000</td>\n",
       "      <td>1010.000000</td>\n",
       "      <td>23.000000</td>\n",
       "      <td>8.000000</td>\n",
       "      <td>190.000000</td>\n",
       "      <td>3.000000</td>\n",
       "    </tr>\n",
       "    <tr>\n",
       "      <th>75%</th>\n",
       "      <td>24.000000</td>\n",
       "      <td>19.000000</td>\n",
       "      <td>0.0</td>\n",
       "      <td>11.600000</td>\n",
       "      <td>5.000000</td>\n",
       "      <td>73.000000</td>\n",
       "      <td>20.000000</td>\n",
       "      <td>22.000000</td>\n",
       "      <td>23.000000</td>\n",
       "      <td>22.000000</td>\n",
       "      <td>8.000000</td>\n",
       "      <td>72.000000</td>\n",
       "      <td>94.000000</td>\n",
       "      <td>25.125000</td>\n",
       "      <td>1014.000000</td>\n",
       "      <td>24.000000</td>\n",
       "      <td>9.000000</td>\n",
       "      <td>213.000000</td>\n",
       "      <td>5.000000</td>\n",
       "    </tr>\n",
       "    <tr>\n",
       "      <th>max</th>\n",
       "      <td>32.000000</td>\n",
       "      <td>24.000000</td>\n",
       "      <td>0.0</td>\n",
       "      <td>13.800000</td>\n",
       "      <td>7.000000</td>\n",
       "      <td>100.000000</td>\n",
       "      <td>25.000000</td>\n",
       "      <td>30.000000</td>\n",
       "      <td>30.000000</td>\n",
       "      <td>26.000000</td>\n",
       "      <td>34.000000</td>\n",
       "      <td>100.000000</td>\n",
       "      <td>100.000000</td>\n",
       "      <td>304.700000</td>\n",
       "      <td>1021.000000</td>\n",
       "      <td>32.000000</td>\n",
       "      <td>10.000000</td>\n",
       "      <td>316.000000</td>\n",
       "      <td>22.000000</td>\n",
       "    </tr>\n",
       "  </tbody>\n",
       "</table>\n",
       "</div>"
      ],
      "text/plain": [
       "          maxtempC     mintempC  totalSnow_cm      sunHour      uvIndex  \\\n",
       "count  4736.000000  4736.000000        4736.0  4736.000000  4736.000000   \n",
       "mean     22.349662    14.780405           0.0     9.944172     4.556377   \n",
       "std       2.991821     4.958872           0.0     1.977156     0.747675   \n",
       "min      11.000000     1.000000           0.0     3.900000     2.000000   \n",
       "25%      20.000000    11.000000           0.0     8.700000     4.000000   \n",
       "50%      23.000000    16.000000           0.0    10.100000     5.000000   \n",
       "75%      24.000000    19.000000           0.0    11.600000     5.000000   \n",
       "max      32.000000    24.000000           0.0    13.800000     7.000000   \n",
       "\n",
       "       moon_illumination    DewPointC   FeelsLikeC   HeatIndexC   WindChillC  \\\n",
       "count        4736.000000  4736.000000  4736.000000  4736.000000  4736.000000   \n",
       "mean           46.048564    15.386824    18.889147    19.376900    18.506123   \n",
       "std            31.273643     5.534787     4.325090     4.554127     3.830181   \n",
       "min             0.000000    -4.000000     7.000000     7.000000     7.000000   \n",
       "25%            18.000000    10.000000    16.000000    16.000000    16.000000   \n",
       "50%            46.000000    16.000000    20.000000    20.000000    20.000000   \n",
       "75%            73.000000    20.000000    22.000000    23.000000    22.000000   \n",
       "max           100.000000    25.000000    30.000000    30.000000    26.000000   \n",
       "\n",
       "       WindGustKmph   cloudcover     humidity     precipMM     pressure  \\\n",
       "count   4736.000000  4736.000000  4736.000000  4736.000000  4736.000000   \n",
       "mean       6.545819    49.094172    84.071368    17.857432  1009.281039   \n",
       "std        3.180460    28.354678    13.613164    25.785133     5.320220   \n",
       "min        2.000000     0.000000    20.000000     0.000000   993.000000   \n",
       "25%        4.000000    23.750000    78.000000     0.300000  1005.000000   \n",
       "50%        6.000000    51.000000    88.000000     9.400000  1010.000000   \n",
       "75%        8.000000    72.000000    94.000000    25.125000  1014.000000   \n",
       "max       34.000000   100.000000   100.000000   304.700000  1021.000000   \n",
       "\n",
       "             tempC   visibility  winddirDegree  windspeedKmph  \n",
       "count  4736.000000  4736.000000    4736.000000    4736.000000  \n",
       "mean     22.349662     7.594595     180.406039       4.073480  \n",
       "std       2.991821     1.794019      48.457312       2.088862  \n",
       "min      11.000000     3.000000      30.000000       1.000000  \n",
       "25%      20.000000     6.000000     152.000000       3.000000  \n",
       "50%      23.000000     8.000000     190.000000       3.000000  \n",
       "75%      24.000000     9.000000     213.000000       5.000000  \n",
       "max      32.000000    10.000000     316.000000      22.000000  "
      ]
     },
     "execution_count": 5,
     "metadata": {},
     "output_type": "execute_result"
    }
   ],
   "source": [
    "df.describe()"
   ]
  },
  {
   "cell_type": "markdown",
   "metadata": {},
   "source": [
    "##### ****************Renaming the  precipMM column*****************\n",
    " We will refer it as the amount of rain:"
   ]
  },
  {
   "cell_type": "code",
   "execution_count": 6,
   "metadata": {},
   "outputs": [],
   "source": [
    "df.rename(columns={\"precipMM\": \"RainMM\"},inplace=True)"
   ]
  },
  {
   "cell_type": "code",
   "execution_count": 7,
   "metadata": {},
   "outputs": [],
   "source": [
    " df['date_time'] = pd.to_datetime(df['date_time'])"
   ]
  },
  {
   "cell_type": "markdown",
   "metadata": {},
   "source": [
    "##### I period the date to months, had another column"
   ]
  },
  {
   "cell_type": "code",
   "execution_count": 8,
   "metadata": {},
   "outputs": [],
   "source": [
    "df['Month'] = df['date_time'].dt.month"
   ]
  },
  {
   "cell_type": "code",
   "execution_count": 9,
   "metadata": {},
   "outputs": [
    {
     "name": "stdout",
     "output_type": "stream",
     "text": [
      "      date_time  maxtempC  mintempC  totalSnow_cm  sunHour  uvIndex  \\\n",
      "0    2008-07-01        26        19           0.0      8.6        5   \n",
      "1    2008-07-02        25        19           0.0      8.6        5   \n",
      "2    2008-07-03        24        20           0.0      8.6        5   \n",
      "3    2008-07-04        25        19           0.0      8.6        5   \n",
      "4    2008-07-05        22        19           0.0      8.6        5   \n",
      "...         ...       ...       ...           ...      ...      ...   \n",
      "4731 2021-06-14        24        17           0.0     11.0        5   \n",
      "4732 2021-06-15        24        16           0.0      8.6        5   \n",
      "4733 2021-06-16        24        18           0.0      9.8        5   \n",
      "4734 2021-06-17        24        15           0.0      8.6        5   \n",
      "4735 2021-06-18        24        15           0.0      8.6        5   \n",
      "\n",
      "      moon_illumination  moonrise     moonset   sunrise  ... cloudcover  \\\n",
      "0                     4  02:14 AM    04:41 PM  04:37 AM  ...         96   \n",
      "1                     0  03:18 AM    05:48 PM  04:37 AM  ...        100   \n",
      "2                     0  04:26 AM    06:47 PM  04:37 AM  ...         99   \n",
      "3                     3  05:38 AM    07:37 PM  04:38 AM  ...        100   \n",
      "4                    10  06:46 AM    08:20 PM  04:38 AM  ...        100   \n",
      "...                 ...       ...         ...       ...  ...        ...   \n",
      "4731                 26  07:37 AM    09:35 PM  04:33 AM  ...         66   \n",
      "4732                 34  08:34 AM    10:16 PM  04:33 AM  ...         83   \n",
      "4733                 42  09:32 AM    10:54 PM  04:33 AM  ...         73   \n",
      "4734                 49  10:30 AM    11:31 PM  04:33 AM  ...         78   \n",
      "4735                 57  11:30 AM  No moonset  04:33 AM  ...         74   \n",
      "\n",
      "      humidity  RainMM  pressure  tempC  visibility  winddirDegree  \\\n",
      "0           99    69.0      1003     26           6            190   \n",
      "1           99    51.7      1002     25           7            180   \n",
      "2           99   102.1      1002     24           5            215   \n",
      "3           99    45.5      1003     25           7            167   \n",
      "4           99    46.5      1002     22           7            161   \n",
      "...        ...     ...       ...    ...         ...            ...   \n",
      "4731        91    22.5      1001     24           8            178   \n",
      "4732        92    36.3      1000     24           8            163   \n",
      "4733        88    10.1      1001     24           9            143   \n",
      "4734        86     8.4      1004     24           7            157   \n",
      "4735        88    12.4      1005     24           9            147   \n",
      "\n",
      "      windspeedKmph   location  Month  \n",
      "0                 6  Mawsynram      7  \n",
      "1                 3  Mawsynram      7  \n",
      "2                 3  Mawsynram      7  \n",
      "3                 4  Mawsynram      7  \n",
      "4                 3  Mawsynram      7  \n",
      "...             ...        ...    ...  \n",
      "4731              2  Mawsynram      6  \n",
      "4732              6  Mawsynram      6  \n",
      "4733              7  Mawsynram      6  \n",
      "4734              9  Mawsynram      6  \n",
      "4735              9  Mawsynram      6  \n",
      "\n",
      "[4736 rows x 26 columns]\n"
     ]
    }
   ],
   "source": [
    "print(df)"
   ]
  },
  {
   "cell_type": "markdown",
   "metadata": {},
   "source": [
    "# Level 3- Inital Visualization"
   ]
  },
  {
   "cell_type": "markdown",
   "metadata": {},
   "source": [
    "##### For the visualisation level i build couple of df with the main dataframe i had. For each of it i did different manipulation.\n",
    "df_corr,  \n",
    "norm_df,  \n",
    "df_col_drop"
   ]
  },
  {
   "cell_type": "markdown",
   "metadata": {},
   "source": [
    "Here i chose to exhibit the dataframe in heatmap - which can help me examine - which of the features has strong Direct connection with rainfall.\n",
    "I discover that : 'mintempC','FeelsLikeC','cloudcover','WindGustKmph','pressure','humidity','windspeedKmph',WindChillC','DewPointC' has the most strong connection."
   ]
  },
  {
   "cell_type": "code",
   "execution_count": 10,
   "metadata": {},
   "outputs": [
    {
     "name": "stdout",
     "output_type": "stream",
     "text": [
      "Index(['date_time', 'maxtempC', 'mintempC', 'totalSnow_cm', 'sunHour',\n",
      "       'uvIndex', 'moon_illumination', 'moonrise', 'moonset', 'sunrise',\n",
      "       'sunset', 'DewPointC', 'FeelsLikeC', 'HeatIndexC', 'WindChillC',\n",
      "       'WindGustKmph', 'cloudcover', 'humidity', 'RainMM', 'pressure', 'tempC',\n",
      "       'visibility', 'winddirDegree', 'windspeedKmph', 'location', 'Month'],\n",
      "      dtype='object')\n"
     ]
    }
   ],
   "source": [
    "print(df.columns)"
   ]
  },
  {
   "cell_type": "code",
   "execution_count": 11,
   "metadata": {},
   "outputs": [
    {
     "data": {
      "text/plain": [
       "<AxesSubplot:>"
      ]
     },
     "execution_count": 11,
     "metadata": {},
     "output_type": "execute_result"
    },
    {
     "data": {
      "image/png": "[encoded data removed]",
      "text/plain": [
       "<Figure size 1080x1080 with 2 Axes>"
      ]
     },
     "metadata": {
      "needs_background": "light"
     },
     "output_type": "display_data"
    }
   ],
   "source": [
    "f,ax = plt.subplots(figsize=(15, 15))\n",
    "sns.heatmap(df.corr(), annot=True, linewidths=.5, fmt= '.1f',ax=ax)"
   ]
  },
  {
   "cell_type": "markdown",
   "metadata": {},
   "source": [
    "#### Here i chose to rebuild my dataframe with only the strong features to get good modelin the end "
   ]
  },
  {
   "cell_type": "code",
   "execution_count": 12,
   "metadata": {},
   "outputs": [],
   "source": [
    "df_corr = df.corr()\n",
    "df_corr.drop('RainMM',inplace=True)\n",
    "df_corr.dropna(how='all',inplace=True)\n",
    "df_corr.dropna(how='all',axis=1,inplace=True)\n",
    "coef = df_corr[(df_corr >= 0.3)|(df_corr <= -0.3)][['RainMM']].dropna().reset_index()"
   ]
  },
  {
   "cell_type": "markdown",
   "metadata": {},
   "source": [
    "#### In this graph i wanted to exhibit the connection between features and rainfall by Bar plot."
   ]
  },
  {
   "cell_type": "code",
   "execution_count": 13,
   "metadata": {},
   "outputs": [
    {
     "data": {
      "text/plain": [
       "<AxesSubplot:xlabel='index', ylabel='RainMM'>"
      ]
     },
     "execution_count": 13,
     "metadata": {},
     "output_type": "execute_result"
    },
    {
     "data": {
      "image/png": "[encoded data removed]",
      "text/plain": [
       "<Figure size 1080x720 with 1 Axes>"
      ]
     },
     "metadata": {
      "needs_background": "light"
     },
     "output_type": "display_data"
    }
   ],
   "source": [
    "plt.subplots(figsize=(15,10))\n",
    "sns.barplot(x='index',y='RainMM',data=coef)"
   ]
  },
  {
   "cell_type": "markdown",
   "metadata": {},
   "source": [
    "##### I was fascinated to see when in the seasons of INDIA its Fall (with most preciption) and when its Summer"
   ]
  },
  {
   "cell_type": "code",
   "execution_count": 14,
   "metadata": {},
   "outputs": [],
   "source": [
    "df_month = df[['Month','RainMM']].groupby('Month',as_index=False).mean()"
   ]
  },
  {
   "cell_type": "code",
   "execution_count": 15,
   "metadata": {},
   "outputs": [
    {
     "name": "stderr",
     "output_type": "stream",
     "text": [
      "C:\\Users\\tommy\\anaconda3\\lib\\site-packages\\seaborn\\_decorators.py:36: FutureWarning: Pass the following variables as keyword args: x, y. From version 0.12, the only valid positional argument will be `data`, and passing other arguments without an explicit keyword will result in an error or misinterpretation.\n",
      "  warnings.warn(\n"
     ]
    },
    {
     "data": {
      "text/plain": [
       "<AxesSubplot:xlabel='Month', ylabel='RainMM'>"
      ]
     },
     "execution_count": 15,
     "metadata": {},
     "output_type": "execute_result"
    },
    {
     "data": {
      "image/png": "[encoded data removed]",
      "text/plain": [
       "<Figure size 432x288 with 1 Axes>"
      ]
     },
     "metadata": {
      "needs_background": "light"
     },
     "output_type": "display_data"
    }
   ],
   "source": [
    "sns.barplot('Month','RainMM',data=df_month)"
   ]
  },
  {
   "cell_type": "markdown",
   "metadata": {},
   "source": [
    "##### Drop Columns with Only One Unique Value"
   ]
  },
  {
   "cell_type": "code",
   "execution_count": 375,
   "metadata": {},
   "outputs": [
    {
     "name": "stdout",
     "output_type": "stream",
     "text": [
      "totalSnow_cm\n",
      "location\n"
     ]
    }
   ],
   "source": [
    "for col in df.columns:\n",
    "    if len(df[col].unique()) == 1:\n",
    "        print(col)\n",
    "        df.drop(col,axis='columns',inplace=True)"
   ]
  },
  {
   "cell_type": "markdown",
   "metadata": {},
   "source": [
    "##### Keep only independent and relevant variables"
   ]
  },
  {
   "cell_type": "code",
   "execution_count": 376,
   "metadata": {},
   "outputs": [],
   "source": [
    "df_col_drop = df[coef['index'].tolist()+['RainMM']]"
   ]
  },
  {
   "cell_type": "code",
   "execution_count": 377,
   "metadata": {},
   "outputs": [
    {
     "name": "stdout",
     "output_type": "stream",
     "text": [
      "      mintempC  DewPointC  FeelsLikeC  HeatIndexC  WindChillC  cloudcover  \\\n",
      "0           19         23          23          26          23          96   \n",
      "1           19         23          23          26          23         100   \n",
      "2           20         23          23          25          23          99   \n",
      "3           19         23          23          25          23         100   \n",
      "4           19         22          22          24          22         100   \n",
      "...        ...        ...         ...         ...         ...         ...   \n",
      "4731        17         21          24          24          21          66   \n",
      "4732        16         21          23          23          21          83   \n",
      "4733        18         21          24          24          22          73   \n",
      "4734        15         20          23          23          21          78   \n",
      "4735        15         20          23          23          21          74   \n",
      "\n",
      "      humidity  pressure  RainMM  \n",
      "0           99      1003    69.0  \n",
      "1           99      1002    51.7  \n",
      "2           99      1002   102.1  \n",
      "3           99      1003    45.5  \n",
      "4           99      1002    46.5  \n",
      "...        ...       ...     ...  \n",
      "4731        91      1001    22.5  \n",
      "4732        92      1000    36.3  \n",
      "4733        88      1001    10.1  \n",
      "4734        86      1004     8.4  \n",
      "4735        88      1005    12.4  \n",
      "\n",
      "[4736 rows x 9 columns]\n"
     ]
    }
   ],
   "source": [
    "print (df_col_drop)"
   ]
  },
  {
   "cell_type": "code",
   "execution_count": 378,
   "metadata": {},
   "outputs": [
    {
     "data": {
      "text/plain": [
       "<seaborn.axisgrid.PairGrid at 0x1f0104a4b80>"
      ]
     },
     "execution_count": 378,
     "metadata": {},
     "output_type": "execute_result"
    },
    {
     "data": {
      "image/png": "[encoded data removed]",
      "text/plain": [
       "<Figure size 1440x180 with 8 Axes>"
      ]
     },
     "metadata": {
      "needs_background": "light"
     },
     "output_type": "display_data"
    }
   ],
   "source": [
    "sns.pairplot(df_col_drop,y_vars = ['RainMM'], x_vars = coef['index'])"
   ]
  },
  {
   "cell_type": "code",
   "execution_count": 379,
   "metadata": {},
   "outputs": [
    {
     "data": {
      "text/plain": [
       "date_time            4736\n",
       "maxtempC             4736\n",
       "mintempC             4736\n",
       "sunHour              4736\n",
       "uvIndex              4736\n",
       "moon_illumination    4736\n",
       "moonrise             4736\n",
       "moonset              4736\n",
       "sunrise              4736\n",
       "sunset               4736\n",
       "DewPointC            4736\n",
       "FeelsLikeC           4736\n",
       "HeatIndexC           4736\n",
       "WindChillC           4736\n",
       "WindGustKmph         4736\n",
       "cloudcover           4736\n",
       "humidity             4736\n",
       "RainMM               4736\n",
       "pressure             4736\n",
       "tempC                4736\n",
       "visibility           4736\n",
       "winddirDegree        4736\n",
       "windspeedKmph        4736\n",
       "Month                4736\n",
       "dtype: int64"
      ]
     },
     "execution_count": 379,
     "metadata": {},
     "output_type": "execute_result"
    }
   ],
   "source": [
    "df.count()"
   ]
  },
  {
   "cell_type": "code",
   "execution_count": 380,
   "metadata": {},
   "outputs": [
    {
     "data": {
      "text/plain": [
       "0"
      ]
     },
     "execution_count": 380,
     "metadata": {},
     "output_type": "execute_result"
    }
   ],
   "source": [
    "sum(df_col_drop['RainMM'].isna())"
   ]
  },
  {
   "cell_type": "code",
   "execution_count": 381,
   "metadata": {
    "scrolled": true
   },
   "outputs": [
    {
     "data": {
      "text/html": [
       "<div>\n",
       "<style scoped>\n",
       "    .dataframe tbody tr th:only-of-type {\n",
       "        vertical-align: middle;\n",
       "    }\n",
       "\n",
       "    .dataframe tbody tr th {\n",
       "        vertical-align: top;\n",
       "    }\n",
       "\n",
       "    .dataframe thead th {\n",
       "        text-align: right;\n",
       "    }\n",
       "</style>\n",
       "<table border=\"1\" class=\"dataframe\">\n",
       "  <thead>\n",
       "    <tr style=\"text-align: right;\">\n",
       "      <th></th>\n",
       "      <th>date_time</th>\n",
       "      <th>maxtempC</th>\n",
       "      <th>mintempC</th>\n",
       "      <th>sunHour</th>\n",
       "      <th>uvIndex</th>\n",
       "      <th>moon_illumination</th>\n",
       "      <th>moonrise</th>\n",
       "      <th>moonset</th>\n",
       "      <th>sunrise</th>\n",
       "      <th>sunset</th>\n",
       "      <th>...</th>\n",
       "      <th>WindGustKmph</th>\n",
       "      <th>cloudcover</th>\n",
       "      <th>humidity</th>\n",
       "      <th>RainMM</th>\n",
       "      <th>pressure</th>\n",
       "      <th>tempC</th>\n",
       "      <th>visibility</th>\n",
       "      <th>winddirDegree</th>\n",
       "      <th>windspeedKmph</th>\n",
       "      <th>Month</th>\n",
       "    </tr>\n",
       "  </thead>\n",
       "  <tbody>\n",
       "    <tr>\n",
       "      <th>0</th>\n",
       "      <td>2008-07-01</td>\n",
       "      <td>26</td>\n",
       "      <td>19</td>\n",
       "      <td>8.6</td>\n",
       "      <td>5</td>\n",
       "      <td>4</td>\n",
       "      <td>02:14 AM</td>\n",
       "      <td>04:41 PM</td>\n",
       "      <td>04:37 AM</td>\n",
       "      <td>06:18 PM</td>\n",
       "      <td>...</td>\n",
       "      <td>9</td>\n",
       "      <td>96</td>\n",
       "      <td>99</td>\n",
       "      <td>69.0</td>\n",
       "      <td>1003</td>\n",
       "      <td>26</td>\n",
       "      <td>6</td>\n",
       "      <td>190</td>\n",
       "      <td>6</td>\n",
       "      <td>7</td>\n",
       "    </tr>\n",
       "    <tr>\n",
       "      <th>1</th>\n",
       "      <td>2008-07-02</td>\n",
       "      <td>25</td>\n",
       "      <td>19</td>\n",
       "      <td>8.6</td>\n",
       "      <td>5</td>\n",
       "      <td>0</td>\n",
       "      <td>03:18 AM</td>\n",
       "      <td>05:48 PM</td>\n",
       "      <td>04:37 AM</td>\n",
       "      <td>06:18 PM</td>\n",
       "      <td>...</td>\n",
       "      <td>4</td>\n",
       "      <td>100</td>\n",
       "      <td>99</td>\n",
       "      <td>51.7</td>\n",
       "      <td>1002</td>\n",
       "      <td>25</td>\n",
       "      <td>7</td>\n",
       "      <td>180</td>\n",
       "      <td>3</td>\n",
       "      <td>7</td>\n",
       "    </tr>\n",
       "    <tr>\n",
       "      <th>2</th>\n",
       "      <td>2008-07-03</td>\n",
       "      <td>24</td>\n",
       "      <td>20</td>\n",
       "      <td>8.6</td>\n",
       "      <td>5</td>\n",
       "      <td>0</td>\n",
       "      <td>04:26 AM</td>\n",
       "      <td>06:47 PM</td>\n",
       "      <td>04:37 AM</td>\n",
       "      <td>06:18 PM</td>\n",
       "      <td>...</td>\n",
       "      <td>6</td>\n",
       "      <td>99</td>\n",
       "      <td>99</td>\n",
       "      <td>102.1</td>\n",
       "      <td>1002</td>\n",
       "      <td>24</td>\n",
       "      <td>5</td>\n",
       "      <td>215</td>\n",
       "      <td>3</td>\n",
       "      <td>7</td>\n",
       "    </tr>\n",
       "    <tr>\n",
       "      <th>3</th>\n",
       "      <td>2008-07-04</td>\n",
       "      <td>25</td>\n",
       "      <td>19</td>\n",
       "      <td>8.6</td>\n",
       "      <td>5</td>\n",
       "      <td>3</td>\n",
       "      <td>05:38 AM</td>\n",
       "      <td>07:37 PM</td>\n",
       "      <td>04:38 AM</td>\n",
       "      <td>06:18 PM</td>\n",
       "      <td>...</td>\n",
       "      <td>6</td>\n",
       "      <td>100</td>\n",
       "      <td>99</td>\n",
       "      <td>45.5</td>\n",
       "      <td>1003</td>\n",
       "      <td>25</td>\n",
       "      <td>7</td>\n",
       "      <td>167</td>\n",
       "      <td>4</td>\n",
       "      <td>7</td>\n",
       "    </tr>\n",
       "    <tr>\n",
       "      <th>4</th>\n",
       "      <td>2008-07-05</td>\n",
       "      <td>22</td>\n",
       "      <td>19</td>\n",
       "      <td>8.6</td>\n",
       "      <td>5</td>\n",
       "      <td>10</td>\n",
       "      <td>06:46 AM</td>\n",
       "      <td>08:20 PM</td>\n",
       "      <td>04:38 AM</td>\n",
       "      <td>06:18 PM</td>\n",
       "      <td>...</td>\n",
       "      <td>4</td>\n",
       "      <td>100</td>\n",
       "      <td>99</td>\n",
       "      <td>46.5</td>\n",
       "      <td>1002</td>\n",
       "      <td>22</td>\n",
       "      <td>7</td>\n",
       "      <td>161</td>\n",
       "      <td>3</td>\n",
       "      <td>7</td>\n",
       "    </tr>\n",
       "    <tr>\n",
       "      <th>...</th>\n",
       "      <td>...</td>\n",
       "      <td>...</td>\n",
       "      <td>...</td>\n",
       "      <td>...</td>\n",
       "      <td>...</td>\n",
       "      <td>...</td>\n",
       "      <td>...</td>\n",
       "      <td>...</td>\n",
       "      <td>...</td>\n",
       "      <td>...</td>\n",
       "      <td>...</td>\n",
       "      <td>...</td>\n",
       "      <td>...</td>\n",
       "      <td>...</td>\n",
       "      <td>...</td>\n",
       "      <td>...</td>\n",
       "      <td>...</td>\n",
       "      <td>...</td>\n",
       "      <td>...</td>\n",
       "      <td>...</td>\n",
       "      <td>...</td>\n",
       "    </tr>\n",
       "    <tr>\n",
       "      <th>4731</th>\n",
       "      <td>2021-06-14</td>\n",
       "      <td>24</td>\n",
       "      <td>17</td>\n",
       "      <td>11.0</td>\n",
       "      <td>5</td>\n",
       "      <td>26</td>\n",
       "      <td>07:37 AM</td>\n",
       "      <td>09:35 PM</td>\n",
       "      <td>04:33 AM</td>\n",
       "      <td>06:15 PM</td>\n",
       "      <td>...</td>\n",
       "      <td>4</td>\n",
       "      <td>66</td>\n",
       "      <td>91</td>\n",
       "      <td>22.5</td>\n",
       "      <td>1001</td>\n",
       "      <td>24</td>\n",
       "      <td>8</td>\n",
       "      <td>178</td>\n",
       "      <td>2</td>\n",
       "      <td>6</td>\n",
       "    </tr>\n",
       "    <tr>\n",
       "      <th>4732</th>\n",
       "      <td>2021-06-15</td>\n",
       "      <td>24</td>\n",
       "      <td>16</td>\n",
       "      <td>8.6</td>\n",
       "      <td>5</td>\n",
       "      <td>34</td>\n",
       "      <td>08:34 AM</td>\n",
       "      <td>10:16 PM</td>\n",
       "      <td>04:33 AM</td>\n",
       "      <td>06:15 PM</td>\n",
       "      <td>...</td>\n",
       "      <td>10</td>\n",
       "      <td>83</td>\n",
       "      <td>92</td>\n",
       "      <td>36.3</td>\n",
       "      <td>1000</td>\n",
       "      <td>24</td>\n",
       "      <td>8</td>\n",
       "      <td>163</td>\n",
       "      <td>6</td>\n",
       "      <td>6</td>\n",
       "    </tr>\n",
       "    <tr>\n",
       "      <th>4733</th>\n",
       "      <td>2021-06-16</td>\n",
       "      <td>24</td>\n",
       "      <td>18</td>\n",
       "      <td>9.8</td>\n",
       "      <td>5</td>\n",
       "      <td>42</td>\n",
       "      <td>09:32 AM</td>\n",
       "      <td>10:54 PM</td>\n",
       "      <td>04:33 AM</td>\n",
       "      <td>06:16 PM</td>\n",
       "      <td>...</td>\n",
       "      <td>10</td>\n",
       "      <td>73</td>\n",
       "      <td>88</td>\n",
       "      <td>10.1</td>\n",
       "      <td>1001</td>\n",
       "      <td>24</td>\n",
       "      <td>9</td>\n",
       "      <td>143</td>\n",
       "      <td>7</td>\n",
       "      <td>6</td>\n",
       "    </tr>\n",
       "    <tr>\n",
       "      <th>4734</th>\n",
       "      <td>2021-06-17</td>\n",
       "      <td>24</td>\n",
       "      <td>15</td>\n",
       "      <td>8.6</td>\n",
       "      <td>5</td>\n",
       "      <td>49</td>\n",
       "      <td>10:30 AM</td>\n",
       "      <td>11:31 PM</td>\n",
       "      <td>04:33 AM</td>\n",
       "      <td>06:16 PM</td>\n",
       "      <td>...</td>\n",
       "      <td>12</td>\n",
       "      <td>78</td>\n",
       "      <td>86</td>\n",
       "      <td>8.4</td>\n",
       "      <td>1004</td>\n",
       "      <td>24</td>\n",
       "      <td>7</td>\n",
       "      <td>157</td>\n",
       "      <td>9</td>\n",
       "      <td>6</td>\n",
       "    </tr>\n",
       "    <tr>\n",
       "      <th>4735</th>\n",
       "      <td>2021-06-18</td>\n",
       "      <td>24</td>\n",
       "      <td>15</td>\n",
       "      <td>8.6</td>\n",
       "      <td>5</td>\n",
       "      <td>57</td>\n",
       "      <td>11:30 AM</td>\n",
       "      <td>No moonset</td>\n",
       "      <td>04:33 AM</td>\n",
       "      <td>06:16 PM</td>\n",
       "      <td>...</td>\n",
       "      <td>13</td>\n",
       "      <td>74</td>\n",
       "      <td>88</td>\n",
       "      <td>12.4</td>\n",
       "      <td>1005</td>\n",
       "      <td>24</td>\n",
       "      <td>9</td>\n",
       "      <td>147</td>\n",
       "      <td>9</td>\n",
       "      <td>6</td>\n",
       "    </tr>\n",
       "  </tbody>\n",
       "</table>\n",
       "<p>4736 rows × 24 columns</p>\n",
       "</div>"
      ],
      "text/plain": [
       "      date_time  maxtempC  mintempC  sunHour  uvIndex  moon_illumination  \\\n",
       "0    2008-07-01        26        19      8.6        5                  4   \n",
       "1    2008-07-02        25        19      8.6        5                  0   \n",
       "2    2008-07-03        24        20      8.6        5                  0   \n",
       "3    2008-07-04        25        19      8.6        5                  3   \n",
       "4    2008-07-05        22        19      8.6        5                 10   \n",
       "...         ...       ...       ...      ...      ...                ...   \n",
       "4731 2021-06-14        24        17     11.0        5                 26   \n",
       "4732 2021-06-15        24        16      8.6        5                 34   \n",
       "4733 2021-06-16        24        18      9.8        5                 42   \n",
       "4734 2021-06-17        24        15      8.6        5                 49   \n",
       "4735 2021-06-18        24        15      8.6        5                 57   \n",
       "\n",
       "      moonrise     moonset   sunrise    sunset  ...  WindGustKmph  cloudcover  \\\n",
       "0     02:14 AM    04:41 PM  04:37 AM  06:18 PM  ...             9          96   \n",
       "1     03:18 AM    05:48 PM  04:37 AM  06:18 PM  ...             4         100   \n",
       "2     04:26 AM    06:47 PM  04:37 AM  06:18 PM  ...             6          99   \n",
       "3     05:38 AM    07:37 PM  04:38 AM  06:18 PM  ...             6         100   \n",
       "4     06:46 AM    08:20 PM  04:38 AM  06:18 PM  ...             4         100   \n",
       "...        ...         ...       ...       ...  ...           ...         ...   \n",
       "4731  07:37 AM    09:35 PM  04:33 AM  06:15 PM  ...             4          66   \n",
       "4732  08:34 AM    10:16 PM  04:33 AM  06:15 PM  ...            10          83   \n",
       "4733  09:32 AM    10:54 PM  04:33 AM  06:16 PM  ...            10          73   \n",
       "4734  10:30 AM    11:31 PM  04:33 AM  06:16 PM  ...            12          78   \n",
       "4735  11:30 AM  No moonset  04:33 AM  06:16 PM  ...            13          74   \n",
       "\n",
       "      humidity  RainMM  pressure  tempC  visibility  winddirDegree  \\\n",
       "0           99    69.0      1003     26           6            190   \n",
       "1           99    51.7      1002     25           7            180   \n",
       "2           99   102.1      1002     24           5            215   \n",
       "3           99    45.5      1003     25           7            167   \n",
       "4           99    46.5      1002     22           7            161   \n",
       "...        ...     ...       ...    ...         ...            ...   \n",
       "4731        91    22.5      1001     24           8            178   \n",
       "4732        92    36.3      1000     24           8            163   \n",
       "4733        88    10.1      1001     24           9            143   \n",
       "4734        86     8.4      1004     24           7            157   \n",
       "4735        88    12.4      1005     24           9            147   \n",
       "\n",
       "      windspeedKmph  Month  \n",
       "0                 6      7  \n",
       "1                 3      7  \n",
       "2                 3      7  \n",
       "3                 4      7  \n",
       "4                 3      7  \n",
       "...             ...    ...  \n",
       "4731              2      6  \n",
       "4732              6      6  \n",
       "4733              7      6  \n",
       "4734              9      6  \n",
       "4735              9      6  \n",
       "\n",
       "[4736 rows x 24 columns]"
      ]
     },
     "execution_count": 381,
     "metadata": {},
     "output_type": "execute_result"
    }
   ],
   "source": [
    "df"
   ]
  },
  {
   "cell_type": "code",
   "execution_count": 382,
   "metadata": {},
   "outputs": [
    {
     "name": "stderr",
     "output_type": "stream",
     "text": [
      "C:\\Users\\tommy\\anaconda3\\lib\\site-packages\\pandas\\core\\indexing.py:1596: SettingWithCopyWarning: \n",
      "A value is trying to be set on a copy of a slice from a DataFrame.\n",
      "Try using .loc[row_indexer,col_indexer] = value instead\n",
      "\n",
      "See the caveats in the documentation: https://pandas.pydata.org/pandas-docs/stable/user_guide/indexing.html#returning-a-view-versus-a-copy\n",
      "  self.obj[key] = _infer_fill_value(value)\n",
      "C:\\Users\\tommy\\anaconda3\\lib\\site-packages\\pandas\\core\\indexing.py:1765: SettingWithCopyWarning: \n",
      "A value is trying to be set on a copy of a slice from a DataFrame.\n",
      "Try using .loc[row_indexer,col_indexer] = value instead\n",
      "\n",
      "See the caveats in the documentation: https://pandas.pydata.org/pandas-docs/stable/user_guide/indexing.html#returning-a-view-versus-a-copy\n",
      "  isetter(loc, value)\n"
     ]
    }
   ],
   "source": [
    "for i in df_col_drop.index[1:]:\n",
    "    df_col_drop.loc[i,'yesterday'] = df_col_drop.loc[i-1,'RainMM']"
   ]
  },
  {
   "cell_type": "code",
   "execution_count": 383,
   "metadata": {},
   "outputs": [],
   "source": [
    "for i in df_col_drop.index[:-1]:\n",
    "    df_col_drop.loc[i,'tommorow'] = df_col_drop.loc[i+1,'RainMM']"
   ]
  },
  {
   "cell_type": "code",
   "execution_count": 384,
   "metadata": {},
   "outputs": [
    {
     "name": "stderr",
     "output_type": "stream",
     "text": [
      "C:\\Users\\tommy\\anaconda3\\lib\\site-packages\\pandas\\core\\series.py:4517: SettingWithCopyWarning: \n",
      "A value is trying to be set on a copy of a slice from a DataFrame\n",
      "\n",
      "See the caveats in the documentation: https://pandas.pydata.org/pandas-docs/stable/user_guide/indexing.html#returning-a-view-versus-a-copy\n",
      "  return super().fillna(\n"
     ]
    }
   ],
   "source": [
    "df_col_drop['yesterday'].fillna(df_col_drop['yesterday'].median(),inplace=True)\n",
    "df_col_drop['tommorow'].fillna(df_col_drop['tommorow'].median(),inplace=True)"
   ]
  },
  {
   "cell_type": "code",
   "execution_count": 385,
   "metadata": {},
   "outputs": [
    {
     "name": "stderr",
     "output_type": "stream",
     "text": [
      "<ipython-input-385-21faeba211cb>:18: MatplotlibDeprecationWarning: Adding an axes using the same arguments as a previous axes currently reuses the earlier instance.  In a future version, a new instance will always be created and returned.  Meanwhile, this warning can be suppressed, and the future behavior ensured, by passing a unique label to each axes instance.\n",
      "  mp.subplot(2,2,2)\n"
     ]
    },
    {
     "data": {
      "text/plain": [
       "Text(0, 0.5, 'cloudcover')"
      ]
     },
     "execution_count": 385,
     "metadata": {},
     "output_type": "execute_result"
    },
    {
     "data": {
      "image/png": "[encoded data removed]",
      "text/plain": [
       "<Figure size 1008x864 with 2 Axes>"
      ]
     },
     "metadata": {
      "needs_background": "light"
     },
     "output_type": "display_data"
    }
   ],
   "source": [
    "mp.figure(1,figsize=[14,12])\n",
    "\n",
    "#Subplot 1\n",
    "mp.subplot(2,2,1)\n",
    "sb.boxplot(data=df_col_drop,y=\"humidity\",x=\"tommorow\")\n",
    "mp.title(\"Humidity vs RainingToday\")\n",
    "mp.xlabel(\"will it rain tommorow\")\n",
    "mp.ylabel(\"humidity\")\n",
    "\n",
    "#Subplot 2\n",
    "mp.subplot(2,2,2)\n",
    "sb.boxplot(data=df_col_drop,y=\"pressure\",x=\"tommorow\")\n",
    "mp.title(\"Pressure vs RainingToday\")\n",
    "mp.xlabel(\"will it rain tommorow\")\n",
    "mp.ylabel(\"Pressure\")\n",
    "\n",
    "#Subplot 3\n",
    "mp.subplot(2,2,2)\n",
    "sb.boxplot(data=df_col_drop,y=\"cloudcover\",x=\"tommorow\")\n",
    "mp.title(\"cloudcover vs RainingToday\")\n",
    "mp.xlabel(\"will it rain tommorow\")\n",
    "mp.ylabel(\"cloudcover\")"
   ]
  },
  {
   "cell_type": "markdown",
   "metadata": {},
   "source": [
    "## ML Models"
   ]
  },
  {
   "cell_type": "markdown",
   "metadata": {},
   "source": [
    "## I descovered that doing the normalization to the dataframe can improve the accuracy of the model.\n",
    "Mainwhile i was fascinated to see if there is a change between a model of a binary_df - which in it i switched the quantity of rain in 'RainMM','yesterday','tommorow' to 1 or 0 - (rain or not rain by filtering the quantity - if it bigger than 5MM)\n",
    "First i took the data without this manipulation and only did normalization. "
   ]
  },
  {
   "cell_type": "markdown",
   "metadata": {},
   "source": [
    "##### Normalize the dataframe 'df_col_drop'"
   ]
  },
  {
   "cell_type": "code",
   "execution_count": 285,
   "metadata": {},
   "outputs": [],
   "source": [
    "norm_df = pd.DataFrame(normalize(df_col_drop,axis=1),index=df_col_drop.index,columns=df_col_drop.columns)"
   ]
  },
  {
   "cell_type": "markdown",
   "metadata": {},
   "source": [
    "##### For rain amount\n"
   ]
  },
  {
   "cell_type": "code",
   "execution_count": 387,
   "metadata": {},
   "outputs": [],
   "source": [
    "ml_df = norm_df.copy()"
   ]
  },
  {
   "cell_type": "code",
   "execution_count": 388,
   "metadata": {},
   "outputs": [],
   "source": [
    "features = ml_df[[col for col in df_col_drop.columns if col != 'tommorow']]\n",
    "output = ml_df['tommorow']"
   ]
  },
  {
   "cell_type": "code",
   "execution_count": 389,
   "metadata": {},
   "outputs": [],
   "source": [
    "x_train, x_test, y_train, y_test = train_test_split(features,output,test_size = 0.2)"
   ]
  },
  {
   "cell_type": "code",
   "execution_count": 390,
   "metadata": {},
   "outputs": [],
   "source": [
    "model = LinearRegression()"
   ]
  },
  {
   "cell_type": "code",
   "execution_count": null,
   "metadata": {},
   "outputs": [],
   "source": []
  },
  {
   "cell_type": "markdown",
   "metadata": {},
   "source": [
    "##### As 1 or 0"
   ]
  },
  {
   "cell_type": "code",
   "execution_count": 286,
   "metadata": {},
   "outputs": [],
   "source": [
    "df_binary = df_col_drop.copy()\n",
    "df_binary.loc[df_binary['RainMM'] > 5,'RainMM'] = 1\n",
    "df_binary.loc[df_binary['yesterday'] > 5,'yesterday'] = 1\n",
    "df_binary.loc[df_binary['tommorow'] > 5,'tommorow'] = 1"
   ]
  },
  {
   "cell_type": "code",
   "execution_count": 287,
   "metadata": {},
   "outputs": [],
   "source": [
    "norm_df = pd.DataFrame(normalize(df_binary,axis=1),index=df_binary.index,columns=df_binary.columns)"
   ]
  },
  {
   "cell_type": "code",
   "execution_count": 391,
   "metadata": {},
   "outputs": [
    {
     "data": {
      "text/plain": [
       "LinearRegression()"
      ]
     },
     "execution_count": 391,
     "metadata": {},
     "output_type": "execute_result"
    }
   ],
   "source": [
    "model.fit(x_train,y_train)"
   ]
  },
  {
   "cell_type": "code",
   "execution_count": 392,
   "metadata": {},
   "outputs": [
    {
     "data": {
      "text/html": [
       "<div>\n",
       "<style scoped>\n",
       "    .dataframe tbody tr th:only-of-type {\n",
       "        vertical-align: middle;\n",
       "    }\n",
       "\n",
       "    .dataframe tbody tr th {\n",
       "        vertical-align: top;\n",
       "    }\n",
       "\n",
       "    .dataframe thead th {\n",
       "        text-align: right;\n",
       "    }\n",
       "</style>\n",
       "<table border=\"1\" class=\"dataframe\">\n",
       "  <thead>\n",
       "    <tr style=\"text-align: right;\">\n",
       "      <th></th>\n",
       "      <th>Coef</th>\n",
       "    </tr>\n",
       "  </thead>\n",
       "  <tbody>\n",
       "    <tr>\n",
       "      <th>mintempC</th>\n",
       "      <td>0.016071</td>\n",
       "    </tr>\n",
       "    <tr>\n",
       "      <th>DewPointC</th>\n",
       "      <td>0.060474</td>\n",
       "    </tr>\n",
       "    <tr>\n",
       "      <th>FeelsLikeC</th>\n",
       "      <td>-0.026791</td>\n",
       "    </tr>\n",
       "    <tr>\n",
       "      <th>HeatIndexC</th>\n",
       "      <td>-0.054592</td>\n",
       "    </tr>\n",
       "    <tr>\n",
       "      <th>WindChillC</th>\n",
       "      <td>0.058492</td>\n",
       "    </tr>\n",
       "    <tr>\n",
       "      <th>cloudcover</th>\n",
       "      <td>0.009980</td>\n",
       "    </tr>\n",
       "    <tr>\n",
       "      <th>humidity</th>\n",
       "      <td>-0.000270</td>\n",
       "    </tr>\n",
       "    <tr>\n",
       "      <th>pressure</th>\n",
       "      <td>0.151467</td>\n",
       "    </tr>\n",
       "    <tr>\n",
       "      <th>RainMM</th>\n",
       "      <td>0.224212</td>\n",
       "    </tr>\n",
       "    <tr>\n",
       "      <th>yesterday</th>\n",
       "      <td>0.060566</td>\n",
       "    </tr>\n",
       "  </tbody>\n",
       "</table>\n",
       "</div>"
      ],
      "text/plain": [
       "                Coef\n",
       "mintempC    0.016071\n",
       "DewPointC   0.060474\n",
       "FeelsLikeC -0.026791\n",
       "HeatIndexC -0.054592\n",
       "WindChillC  0.058492\n",
       "cloudcover  0.009980\n",
       "humidity   -0.000270\n",
       "pressure    0.151467\n",
       "RainMM      0.224212\n",
       "yesterday   0.060566"
      ]
     },
     "execution_count": 392,
     "metadata": {},
     "output_type": "execute_result"
    }
   ],
   "source": [
    "pd.DataFrame(model.coef_,index=features.columns,columns=['Coef'])"
   ]
  },
  {
   "cell_type": "code",
   "execution_count": 393,
   "metadata": {},
   "outputs": [],
   "source": [
    "y_pred = model.predict(x_test)"
   ]
  },
  {
   "cell_type": "code",
   "execution_count": 394,
   "metadata": {},
   "outputs": [
    {
     "data": {
      "text/plain": [
       "0.17834224137468224"
      ]
     },
     "execution_count": 394,
     "metadata": {},
     "output_type": "execute_result"
    }
   ],
   "source": [
    "model.score(x_test,y_test)"
   ]
  },
  {
   "cell_type": "markdown",
   "metadata": {},
   "source": [
    "### Linear Regression"
   ]
  },
  {
   "cell_type": "markdown",
   "metadata": {},
   "source": [
    "##### For rain amount"
   ]
  },
  {
   "cell_type": "code",
   "execution_count": 288,
   "metadata": {},
   "outputs": [],
   "source": [
    "ml_df = norm_df.copy()"
   ]
  },
  {
   "cell_type": "code",
   "execution_count": 289,
   "metadata": {},
   "outputs": [],
   "source": [
    "features = ml_df[[col for col in df_col_drop.columns if col != 'tommorow']]\n",
    "output = ml_df['tommorow']"
   ]
  },
  {
   "cell_type": "code",
   "execution_count": 290,
   "metadata": {},
   "outputs": [],
   "source": [
    "x_train, x_test, y_train, y_test = train_test_split(features,output,test_size = 0.2)"
   ]
  },
  {
   "cell_type": "code",
   "execution_count": 291,
   "metadata": {},
   "outputs": [],
   "source": [
    "model = LinearRegression()"
   ]
  },
  {
   "cell_type": "code",
   "execution_count": 292,
   "metadata": {},
   "outputs": [
    {
     "data": {
      "text/plain": [
       "LinearRegression()"
      ]
     },
     "execution_count": 292,
     "metadata": {},
     "output_type": "execute_result"
    }
   ],
   "source": [
    "model.fit(x_train,y_train)"
   ]
  },
  {
   "cell_type": "code",
   "execution_count": 293,
   "metadata": {},
   "outputs": [
    {
     "data": {
      "text/html": [
       "<div>\n",
       "<style scoped>\n",
       "    .dataframe tbody tr th:only-of-type {\n",
       "        vertical-align: middle;\n",
       "    }\n",
       "\n",
       "    .dataframe tbody tr th {\n",
       "        vertical-align: top;\n",
       "    }\n",
       "\n",
       "    .dataframe thead th {\n",
       "        text-align: right;\n",
       "    }\n",
       "</style>\n",
       "<table border=\"1\" class=\"dataframe\">\n",
       "  <thead>\n",
       "    <tr style=\"text-align: right;\">\n",
       "      <th></th>\n",
       "      <th>Coef</th>\n",
       "    </tr>\n",
       "  </thead>\n",
       "  <tbody>\n",
       "    <tr>\n",
       "      <th>mintempC</th>\n",
       "      <td>0.021199</td>\n",
       "    </tr>\n",
       "    <tr>\n",
       "      <th>DewPointC</th>\n",
       "      <td>0.053461</td>\n",
       "    </tr>\n",
       "    <tr>\n",
       "      <th>FeelsLikeC</th>\n",
       "      <td>-0.033027</td>\n",
       "    </tr>\n",
       "    <tr>\n",
       "      <th>HeatIndexC</th>\n",
       "      <td>-0.039136</td>\n",
       "    </tr>\n",
       "    <tr>\n",
       "      <th>WindChillC</th>\n",
       "      <td>0.052330</td>\n",
       "    </tr>\n",
       "    <tr>\n",
       "      <th>cloudcover</th>\n",
       "      <td>0.011673</td>\n",
       "    </tr>\n",
       "    <tr>\n",
       "      <th>humidity</th>\n",
       "      <td>0.004163</td>\n",
       "    </tr>\n",
       "    <tr>\n",
       "      <th>pressure</th>\n",
       "      <td>0.181551</td>\n",
       "    </tr>\n",
       "    <tr>\n",
       "      <th>RainMM</th>\n",
       "      <td>0.214306</td>\n",
       "    </tr>\n",
       "    <tr>\n",
       "      <th>yesterday</th>\n",
       "      <td>0.064935</td>\n",
       "    </tr>\n",
       "  </tbody>\n",
       "</table>\n",
       "</div>"
      ],
      "text/plain": [
       "                Coef\n",
       "mintempC    0.021199\n",
       "DewPointC   0.053461\n",
       "FeelsLikeC -0.033027\n",
       "HeatIndexC -0.039136\n",
       "WindChillC  0.052330\n",
       "cloudcover  0.011673\n",
       "humidity    0.004163\n",
       "pressure    0.181551\n",
       "RainMM      0.214306\n",
       "yesterday   0.064935"
      ]
     },
     "execution_count": 293,
     "metadata": {},
     "output_type": "execute_result"
    }
   ],
   "source": [
    "pd.DataFrame(model.coef_,index=features.columns,columns=['Coef'])"
   ]
  },
  {
   "cell_type": "code",
   "execution_count": 294,
   "metadata": {},
   "outputs": [],
   "source": [
    "y_pred = model.predict(x_test)"
   ]
  },
  {
   "cell_type": "code",
   "execution_count": 295,
   "metadata": {},
   "outputs": [
    {
     "data": {
      "text/plain": [
       "0.1043747007557424"
      ]
     },
     "execution_count": 295,
     "metadata": {},
     "output_type": "execute_result"
    }
   ],
   "source": [
    "model.score(x_test,y_test)"
   ]
  },
  {
   "cell_type": "code",
   "execution_count": 296,
   "metadata": {},
   "outputs": [],
   "source": [
    "models = []\n",
    "r2 = []\n",
    "\n",
    "for i in range(10):\n",
    "    features = ml_df[[col for col in ml_df.columns if col != 'tommorow']]\n",
    "    output = ml_df['tommorow']\n",
    "\n",
    "    x_train, x_test, y_train, y_test = train_test_split(features,output,test_size = 0.2)\n",
    "\n",
    "    model = LinearRegression()\n",
    "\n",
    "    model.fit(x_train,y_train)\n",
    "\n",
    "    y_pred = model.predict(x_test)\n",
    "\n",
    "    score = model.score(x_test,y_test)\n",
    "    \n",
    "    models.append(model)\n",
    "    r2.append(score)"
   ]
  },
  {
   "cell_type": "code",
   "execution_count": 190,
   "metadata": {},
   "outputs": [
    {
     "data": {
      "text/plain": [
       "[<matplotlib.lines.Line2D at 0x20585594708>]"
      ]
     },
     "execution_count": 190,
     "metadata": {},
     "output_type": "execute_result"
    },
    {
     "data": {
      "image/png": "[encoded data removed]",
      "text/plain": [
       "<Figure size 1440x576 with 1 Axes>"
      ]
     },
     "metadata": {},
     "output_type": "display_data"
    }
   ],
   "source": [
    "plt.subplots(figsize=(20,8))\n",
    "plt.plot(r2)"
   ]
  },
  {
   "cell_type": "markdown",
   "metadata": {},
   "source": [
    "### ~The End~"
   ]
  },
  {
   "cell_type": "code",
   "execution_count": null,
   "metadata": {},
   "outputs": [],
   "source": []
  }
 ],
 "metadata": {
  "kernelspec": {
   "display_name": "Python 3",
   "language": "python",
   "name": "python3"
  },
  "language_info": {
   "codemirror_mode": {
    "name": "ipython",
    "version": 3
   },
   "file_extension": ".py",
   "mimetype": "text/x-python",
   "name": "python",
   "nbconvert_exporter": "python",
   "pygments_lexer": "ipython3",
   "version": "3.8.5"
  }
 },
 "nbformat": 4,
 "nbformat_minor": 4
}
